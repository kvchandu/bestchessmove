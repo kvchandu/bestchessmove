{
 "cells": [
  {
   "cell_type": "markdown",
   "metadata": {},
   "source": [
    "# Loading Image\n",
    "\n",
    "We use this section to load an image and preprocess it. "
   ]
  },
  {
   "cell_type": "code",
   "execution_count": 457,
   "metadata": {},
   "outputs": [],
   "source": [
    "# Imports for visualization\n",
    "import cv2\n",
    "import numpy as np\n",
    "from matplotlib import pyplot as plt\n",
    "from scipy import stats"
   ]
  },
  {
   "cell_type": "code",
   "execution_count": 458,
   "metadata": {},
   "outputs": [],
   "source": [
    "def display_image(img):\n",
    "    #imS = cv2.resize(img, (1000, 700))  # Resize image\n",
    "    cv2.imshow(\"image\", img)\n",
    "    cv2.waitKey(0)\n",
    "\n",
    "    cv2.waitKey(0)\n",
    "    cv2.destroyAllWindows()\n",
    "    \n",
    "\n",
    "def make_kernel(a):\n",
    "  \"\"\"Transform a 2D array into a convolution kernel\"\"\"\n",
    "  a = np.asarray(a)\n",
    "  a = a.reshape(list(a.shape) + [1,1])\n",
    "  return a"
   ]
  },
  {
   "cell_type": "code",
   "execution_count": 459,
   "metadata": {},
   "outputs": [],
   "source": [
    "#Load image and convert to grayscale\n",
    "image_path = 'test_11.jpg'\n",
    "img = cv2.imread(image_path)\n",
    "img = cv2.resize(img, (800, 800))\n",
    "gray = cv2.cvtColor(img, cv2.COLOR_BGR2GRAY)\n",
    "\n",
    "#Perform Hough transform\n",
    "gray = cv2.cvtColor(img, cv2.COLOR_BGR2GRAY)\n",
    "edges = cv2.Canny(gray,50,150,apertureSize = 3)\n",
    "lines = cv2.HoughLines(edges,1,np.pi/180,200)\n",
    "\n"
   ]
  },
  {
   "cell_type": "code",
   "execution_count": 460,
   "metadata": {},
   "outputs": [],
   "source": [
    "vertical_lines = []\n",
    "horizontal_lines = []\n",
    "#Display all lines\n",
    "for line in lines:\n",
    "    rho = line[0][0]\n",
    "    theta = line[0][1]\n",
    "    if(theta == 0):\n",
    "        vertical_lines.append(line)\n",
    "\n",
    "\n",
    "\n",
    "#Display all lines\n",
    "for line in lines:\n",
    "    rho = line[0][0]\n",
    "    theta = line[0][1]\n",
    "    if theta != 0.0:        horizontal_lines.append(line)\n",
    "        "
   ]
  },
  {
   "cell_type": "code",
   "execution_count": 461,
   "metadata": {},
   "outputs": [],
   "source": [
    "def checkMatch(lineset):\n",
    "    \"\"\"Checks whether there exists 7 lines of consistent increasing order in set of lines\"\"\"\n",
    "    linediff = np.diff(lineset)\n",
    "    x = 0\n",
    "    cnt = 0\n",
    "    for line in linediff:\n",
    "        # Within 5 px of the other (allowing for minor image errors)\n",
    "        if np.abs(line - x) < 5:\n",
    "            cnt += 1\n",
    "        else:\n",
    "            cnt = 0\n",
    "            x = line\n",
    "    return cnt == 5"
   ]
  },
  {
   "cell_type": "code",
   "execution_count": 462,
   "metadata": {},
   "outputs": [
    {
     "data": {
      "text/plain": [
       "21"
      ]
     },
     "execution_count": 462,
     "metadata": {},
     "output_type": "execute_result"
    }
   ],
   "source": [
    "len(horizontal_lines)"
   ]
  },
  {
   "cell_type": "code",
   "execution_count": 463,
   "metadata": {},
   "outputs": [],
   "source": [
    "img = cv2.imread(image_path)\n",
    "img = cv2.resize(img, (1000, 1000))\n",
    "for line in vertical_lines:\n",
    "    rho = line[0][0]\n",
    "    theta = line[0][1]\n",
    "    a = np.cos(theta)\n",
    "    b = np.sin(theta)\n",
    "    x0 = a*rho\n",
    "    y0 = b*rho\n",
    "    x1 = int(x0 + 5000*(-b))\n",
    "    y1 = int(y0 + 5000*(a))\n",
    "    x2 = int(x0 - 5000*(-b))\n",
    "    y2 = int(y0 - 5000*(a))\n",
    "\n",
    "    cv2.line(img,(x1,y1),(x2,y2),(0,0,255),2)\n",
    "\n",
    "display_image(img)"
   ]
  },
  {
   "cell_type": "code",
   "execution_count": 448,
   "metadata": {},
   "outputs": [
    {
     "data": {
      "text/plain": [
       "array([[118.       ,   1.5707964]], dtype=float32)"
      ]
     },
     "execution_count": 448,
     "metadata": {},
     "output_type": "execute_result"
    }
   ],
   "source": [
    "\n",
    "#Convert to numpy arrays. \n",
    "horizontal_lines_np = np.concatenate( horizontal_lines, axis=0 )\n",
    "vertical_lines_np = np.concatenate( vertical_lines, axis=0 )\n",
    "horizontal_lines_np = np.sort(horizontal_lines_np, axis = 0)\n",
    "vertical_lines_np = np.sort(vertical_lines_np, axis = 0)\n",
    "\n",
    "horizontal_lines_np"
   ]
  },
  {
   "cell_type": "code",
   "execution_count": 449,
   "metadata": {},
   "outputs": [
    {
     "data": {
      "text/plain": [
       "array([], shape=(0, 2), dtype=float32)"
      ]
     },
     "execution_count": 449,
     "metadata": {},
     "output_type": "execute_result"
    }
   ],
   "source": [
    "linediff_hor = np.diff(horizontal_lines_np, axis = 0)\n",
    "linediff_ver = np.diff(vertical_lines_np, axis = 0)\n",
    "\n",
    "linediff_hor"
   ]
  },
  {
   "cell_type": "code",
   "execution_count": 450,
   "metadata": {},
   "outputs": [],
   "source": [
    "#Remove lines which are very close to each other so that the board detection will be easier. \n",
    "def filter_lines(lines, linediff):\n",
    "    indices_to_delete = []\n",
    "    for index, diff in enumerate(linediff): \n",
    "        if(diff[0] <= 10):\n",
    "            indices_to_delete.append(index)\n",
    "    return np.delete(lines, indices_to_delete,0)\n"
   ]
  },
  {
   "cell_type": "code",
   "execution_count": 451,
   "metadata": {},
   "outputs": [],
   "source": [
    "filtered_horizontal_lines = filter_lines(horizontal_lines_np, linediff_hor)\n",
    "filtered_vertical_lines = filter_lines(vertical_lines_np, linediff_ver)"
   ]
  },
  {
   "cell_type": "code",
   "execution_count": 452,
   "metadata": {},
   "outputs": [],
   "source": [
    "img = cv2.imread(image_path)\n",
    "img = cv2.resize(img, (1000, 1000))\n",
    "for line in filtered_horizontal_lines:\n",
    "    rho = line[0]\n",
    "    theta = line[1]\n",
    "    a = np.cos(theta)\n",
    "    b = np.sin(theta)\n",
    "    x0 = a*rho\n",
    "    y0 = b*rho\n",
    "    x1 = int(x0 + 5000*(-b))\n",
    "    y1 = int(y0 + 5000*(a))\n",
    "    x2 = int(x0 - 5000*(-b))\n",
    "    y2 = int(y0 - 5000*(a))\n",
    "\n",
    "    cv2.line(img,(x1,y1),(x2,y2),(0,0,255),2)\n",
    "\n",
    "display_image(img)"
   ]
  },
  {
   "cell_type": "code",
   "execution_count": 453,
   "metadata": {},
   "outputs": [],
   "source": [
    "#update line differences. \n",
    "\n",
    "linediff_hor = np.diff(filtered_horizontal_lines, axis = 0)\n",
    "linediff_ver = np.diff(filtered_vertical_lines, axis = 0)"
   ]
  },
  {
   "cell_type": "code",
   "execution_count": 454,
   "metadata": {},
   "outputs": [
    {
     "data": {
      "text/plain": [
       "array([], shape=(0, 2), dtype=float32)"
      ]
     },
     "execution_count": 454,
     "metadata": {},
     "output_type": "execute_result"
    }
   ],
   "source": [
    "linediff_hor"
   ]
  },
  {
   "cell_type": "code",
   "execution_count": 455,
   "metadata": {},
   "outputs": [],
   "source": [
    "def get_chess_lines(lines, linediff):\n",
    "    indices_to_delete = []\n",
    "    #find most occuring difference which is probably the width of the chess square. \n",
    "    m = stats.mode(linediff)\n",
    "    mode = m[0][0][0]\n",
    "    for index, diff in enumerate(linediff): \n",
    "        if(abs(diff[0] - mode) >5):\n",
    "            print(diff[0])\n",
    "            indices_to_delete.append(index+1)\n",
    "    return np.delete(lines, indices_to_delete,0)"
   ]
  },
  {
   "cell_type": "code",
   "execution_count": 456,
   "metadata": {},
   "outputs": [
    {
     "ename": "IndexError",
     "evalue": "index 0 is out of bounds for axis 0 with size 0",
     "output_type": "error",
     "traceback": [
      "\u001b[1;31m---------------------------------------------------------------------------\u001b[0m",
      "\u001b[1;31mIndexError\u001b[0m                                Traceback (most recent call last)",
      "\u001b[1;32m<ipython-input-456-1437e105cd52>\u001b[0m in \u001b[0;36m<module>\u001b[1;34m\u001b[0m\n\u001b[1;32m----> 1\u001b[1;33m \u001b[0mchess_lines_hor\u001b[0m \u001b[1;33m=\u001b[0m \u001b[0mget_chess_lines\u001b[0m\u001b[1;33m(\u001b[0m\u001b[0mfiltered_horizontal_lines\u001b[0m\u001b[1;33m,\u001b[0m \u001b[0mlinediff_hor\u001b[0m\u001b[1;33m)\u001b[0m\u001b[1;33m\u001b[0m\u001b[1;33m\u001b[0m\u001b[0m\n\u001b[0m\u001b[0;32m      2\u001b[0m \u001b[0mchess_lines_ver\u001b[0m \u001b[1;33m=\u001b[0m \u001b[0mget_chess_lines\u001b[0m\u001b[1;33m(\u001b[0m\u001b[0mfiltered_vertical_lines\u001b[0m\u001b[1;33m,\u001b[0m \u001b[0mlinediff_ver\u001b[0m\u001b[1;33m)\u001b[0m\u001b[1;33m\u001b[0m\u001b[1;33m\u001b[0m\u001b[0m\n",
      "\u001b[1;32m<ipython-input-455-62804447f07b>\u001b[0m in \u001b[0;36mget_chess_lines\u001b[1;34m(lines, linediff)\u001b[0m\n\u001b[0;32m      3\u001b[0m     \u001b[1;31m#find most occuring difference which is probably the width of the chess square.\u001b[0m\u001b[1;33m\u001b[0m\u001b[1;33m\u001b[0m\u001b[1;33m\u001b[0m\u001b[0m\n\u001b[0;32m      4\u001b[0m     \u001b[0mm\u001b[0m \u001b[1;33m=\u001b[0m \u001b[0mstats\u001b[0m\u001b[1;33m.\u001b[0m\u001b[0mmode\u001b[0m\u001b[1;33m(\u001b[0m\u001b[0mlinediff\u001b[0m\u001b[1;33m)\u001b[0m\u001b[1;33m\u001b[0m\u001b[1;33m\u001b[0m\u001b[0m\n\u001b[1;32m----> 5\u001b[1;33m     \u001b[0mmode\u001b[0m \u001b[1;33m=\u001b[0m \u001b[0mm\u001b[0m\u001b[1;33m[\u001b[0m\u001b[1;36m0\u001b[0m\u001b[1;33m]\u001b[0m\u001b[1;33m[\u001b[0m\u001b[1;36m0\u001b[0m\u001b[1;33m]\u001b[0m\u001b[1;33m[\u001b[0m\u001b[1;36m0\u001b[0m\u001b[1;33m]\u001b[0m\u001b[1;33m\u001b[0m\u001b[1;33m\u001b[0m\u001b[0m\n\u001b[0m\u001b[0;32m      6\u001b[0m     \u001b[1;32mfor\u001b[0m \u001b[0mindex\u001b[0m\u001b[1;33m,\u001b[0m \u001b[0mdiff\u001b[0m \u001b[1;32min\u001b[0m \u001b[0menumerate\u001b[0m\u001b[1;33m(\u001b[0m\u001b[0mlinediff\u001b[0m\u001b[1;33m)\u001b[0m\u001b[1;33m:\u001b[0m\u001b[1;33m\u001b[0m\u001b[1;33m\u001b[0m\u001b[0m\n\u001b[0;32m      7\u001b[0m         \u001b[1;32mif\u001b[0m\u001b[1;33m(\u001b[0m\u001b[0mabs\u001b[0m\u001b[1;33m(\u001b[0m\u001b[0mdiff\u001b[0m\u001b[1;33m[\u001b[0m\u001b[1;36m0\u001b[0m\u001b[1;33m]\u001b[0m \u001b[1;33m-\u001b[0m \u001b[0mmode\u001b[0m\u001b[1;33m)\u001b[0m \u001b[1;33m>\u001b[0m\u001b[1;36m5\u001b[0m\u001b[1;33m)\u001b[0m\u001b[1;33m:\u001b[0m\u001b[1;33m\u001b[0m\u001b[1;33m\u001b[0m\u001b[0m\n",
      "\u001b[1;31mIndexError\u001b[0m: index 0 is out of bounds for axis 0 with size 0"
     ]
    }
   ],
   "source": [
    "chess_lines_hor = get_chess_lines(filtered_horizontal_lines, linediff_hor)\n",
    "chess_lines_ver = get_chess_lines(filtered_vertical_lines, linediff_ver)"
   ]
  },
  {
   "cell_type": "code",
   "execution_count": null,
   "metadata": {},
   "outputs": [],
   "source": [
    "img = cv2.imread(image_path)\n",
    "img = cv2.resize(img, (1000, 1000))\n",
    "for line in chess_lines_hor:\n",
    "    rho = line[0]\n",
    "    theta = line[1]\n",
    "    a = np.cos(theta)\n",
    "    b = np.sin(theta)\n",
    "    x0 = a*rho\n",
    "    y0 = b*rho\n",
    "    x1 = int(x0 + 5000*(-b))\n",
    "    y1 = int(y0 + 5000*(a))\n",
    "    x2 = int(x0 - 5000*(-b))\n",
    "    y2 = int(y0 - 5000*(a))\n",
    "\n",
    "    cv2.line(img,(x1,y1),(x2,y2),(0,0,255),2)\n",
    "    \n",
    "for line in chess_lines_ver:\n",
    "    rho = line[0]\n",
    "    theta = line[1]\n",
    "    a = np.cos(theta)\n",
    "    b = np.sin(theta)\n",
    "    x0 = a*rho\n",
    "    y0 = b*rho\n",
    "    x1 = int(x0 + 5000*(-b))\n",
    "    y1 = int(y0 + 5000*(a))\n",
    "    x2 = int(x0 - 5000*(-b))\n",
    "    y2 = int(y0 - 5000*(a))\n",
    "\n",
    "    cv2.line(img,(x1,y1),(x2,y2),(0,0,255),2)\n",
    "\n",
    "print(chess_lines_hor)\n",
    "    \n",
    "display_image(img)"
   ]
  },
  {
   "cell_type": "code",
   "execution_count": null,
   "metadata": {},
   "outputs": [],
   "source": [
    "#Get equations of lines:\n",
    "def getIntersection(rho1,theta1,rho2, theta2):\n",
    "    A = np.array([\n",
    "        [np.cos(theta1), np.sin(theta1)],\n",
    "        [np.cos(theta2), np.sin(theta2)]\n",
    "    ])\n",
    "    b = np.array([[rho1], [rho2]])\n",
    "    x0, y0 = np.linalg.solve(A, b)\n",
    "    x0, y0 = int(np.round(x0)), int(np.round(y0))\n",
    "    return [[x0, y0]]\n",
    "    "
   ]
  },
  {
   "cell_type": "code",
   "execution_count": null,
   "metadata": {},
   "outputs": [],
   "source": [
    "#Get all intersection points of horizontal and vertical lines to get the corners of the chess squares to extract patches. \n",
    "\n",
    "points = []\n",
    "for i in chess_lines_hor:\n",
    "    for j in chess_lines_ver:\n",
    "        rho_hor = i[0]\n",
    "        theta_hor = i[1]\n",
    "        rho_ver = j[0]\n",
    "        theta_ver = j[1]\n",
    "        points.append(getIntersection(rho_hor, theta_hor, rho_ver, theta_ver))"
   ]
  },
  {
   "cell_type": "code",
   "execution_count": null,
   "metadata": {},
   "outputs": [],
   "source": [
    "#points.insert(0, [0,points[0][0][1]])\n",
    "previous = -1\n",
    "width = img.shape[1]\n",
    "for index, point in enumerate(points):\n",
    "    if point[0][1] != previous:\n",
    "        points.insert(index, [[width,previous]])\n",
    "        previous = point[0][1]\n",
    "\n",
    "        \n",
    "previous = -1\n",
    "\n",
    "for index, point in enumerate(points):\n",
    "    if point[0][1] != previous:\n",
    "        points.insert(index, [[0,point[0][1]]])\n",
    "        previous = point[0][1]\n",
    "\n",
    "points.pop(0)  \n",
    "points.append([[width,points[-1][0][1] ]])\n",
    "#print(points)"
   ]
  },
  {
   "cell_type": "code",
   "execution_count": null,
   "metadata": {},
   "outputs": [],
   "source": [
    "# Make empty black image\n",
    "img = cv2.imread(image_path)\n",
    "img = cv2.resize(img, (1000, 1000))\n",
    "for point in points:\n",
    "    print(point)\n",
    "    cv2.circle(img, (point[0][0],point[0][1]), 5, [0,0,255], thickness=2, lineType=8, shift=0)\n",
    "#image[10,5]=[0,0,255]\n",
    "\n",
    "display_image(img)\n",
    "# # Make one pixel red\n",
    "\n",
    "# # Save\n",
    "# cv2.imwrite(\"result.png\",image)"
   ]
  },
  {
   "cell_type": "code",
   "execution_count": null,
   "metadata": {},
   "outputs": [],
   "source": []
  },
  {
   "cell_type": "code",
   "execution_count": null,
   "metadata": {},
   "outputs": [],
   "source": []
  },
  {
   "cell_type": "code",
   "execution_count": null,
   "metadata": {},
   "outputs": [],
   "source": []
  }
 ],
 "metadata": {
  "kernelspec": {
   "display_name": "Python 3",
   "language": "python",
   "name": "python3"
  },
  "language_info": {
   "codemirror_mode": {
    "name": "ipython",
    "version": 3
   },
   "file_extension": ".py",
   "mimetype": "text/x-python",
   "name": "python",
   "nbconvert_exporter": "python",
   "pygments_lexer": "ipython3",
   "version": "3.7.3"
  }
 },
 "nbformat": 4,
 "nbformat_minor": 2
}
