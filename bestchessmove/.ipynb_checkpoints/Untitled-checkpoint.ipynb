{
 "cells": [
  {
   "cell_type": "markdown",
   "metadata": {},
   "source": [
    "# Loading Image\n",
    "\n",
    "We use this section to load an image and preprocess it. "
   ]
  },
  {
   "cell_type": "code",
   "execution_count": 509,
   "metadata": {},
   "outputs": [],
   "source": [
    "# Imports for visualization\n",
    "import cv2\n",
    "import numpy as np\n",
    "from matplotlib import pyplot as plt\n",
    "from scipy import stats"
   ]
  },
  {
   "cell_type": "code",
   "execution_count": 510,
   "metadata": {},
   "outputs": [],
   "source": [
    "def display_image(img):\n",
    "    imS = cv2.resize(img, (540, 700))  # Resize image\n",
    "    cv2.imshow(\"image\", imS)\n",
    "    cv2.waitKey(0)\n",
    "\n",
    "    cv2.waitKey(0)\n",
    "    cv2.destroyAllWindows()\n",
    "    \n",
    "\n",
    "def make_kernel(a):\n",
    "  \"\"\"Transform a 2D array into a convolution kernel\"\"\"\n",
    "  a = np.asarray(a)\n",
    "  a = a.reshape(list(a.shape) + [1,1])\n",
    "  return a"
   ]
  },
  {
   "cell_type": "code",
   "execution_count": 511,
   "metadata": {},
   "outputs": [],
   "source": [
    "#Load image and convert to grayscale\n",
    "image_path = 'download.jfif'\n",
    "img = cv2.imread(image_path)\n",
    "gray = cv2.cvtColor(img, cv2.COLOR_BGR2GRAY)\n",
    "\n",
    "#Perform Hough transform\n",
    "gray = cv2.cvtColor(img, cv2.COLOR_BGR2GRAY)\n",
    "edges = cv2.Canny(gray,50,150,apertureSize = 3)\n",
    "lines = cv2.HoughLines(edges,1,np.pi/180,200)\n",
    "\n"
   ]
  },
  {
   "cell_type": "code",
   "execution_count": 512,
   "metadata": {},
   "outputs": [],
   "source": [
    "vertical_lines = []\n",
    "horizontal_lines = []\n",
    "#Display all lines\n",
    "for line in lines:\n",
    "    rho = line[0][0]\n",
    "    theta = line[0][1]\n",
    "    if(theta == 0):\n",
    "        vertical_lines.append(line)\n",
    "\n",
    "\n",
    "\n",
    "#Display all lines\n",
    "for line in lines:\n",
    "    rho = line[0][0]\n",
    "    theta = line[0][1]\n",
    "    if theta != 0.0:        horizontal_lines.append(line)\n",
    "        "
   ]
  },
  {
   "cell_type": "code",
   "execution_count": 513,
   "metadata": {},
   "outputs": [],
   "source": [
    "def checkMatch(lineset):\n",
    "    \"\"\"Checks whether there exists 7 lines of consistent increasing order in set of lines\"\"\"\n",
    "    linediff = np.diff(lineset)\n",
    "    x = 0\n",
    "    cnt = 0\n",
    "    for line in linediff:\n",
    "        # Within 5 px of the other (allowing for minor image errors)\n",
    "        if np.abs(line - x) < 5:\n",
    "            cnt += 1\n",
    "        else:\n",
    "            cnt = 0\n",
    "            x = line\n",
    "    return cnt == 5"
   ]
  },
  {
   "cell_type": "code",
   "execution_count": 514,
   "metadata": {},
   "outputs": [
    {
     "data": {
      "text/plain": [
       "12"
      ]
     },
     "execution_count": 514,
     "metadata": {},
     "output_type": "execute_result"
    }
   ],
   "source": [
    "len(horizontal_lines)"
   ]
  },
  {
   "cell_type": "code",
   "execution_count": 515,
   "metadata": {},
   "outputs": [],
   "source": [
    "img = cv2.imread(image_path)\n",
    "for line in vertical_lines:\n",
    "    rho = line[0][0]\n",
    "    theta = line[0][1]\n",
    "    a = np.cos(theta)\n",
    "    b = np.sin(theta)\n",
    "    x0 = a*rho\n",
    "    y0 = b*rho\n",
    "    x1 = int(x0 + 5000*(-b))\n",
    "    y1 = int(y0 + 5000*(a))\n",
    "    x2 = int(x0 - 5000*(-b))\n",
    "    y2 = int(y0 - 5000*(a))\n",
    "\n",
    "    cv2.line(img,(x1,y1),(x2,y2),(0,0,255),2)\n",
    "\n",
    "display_image(img)"
   ]
  },
  {
   "cell_type": "code",
   "execution_count": 516,
   "metadata": {},
   "outputs": [
    {
     "data": {
      "text/plain": [
       "array([[  3.       ,   1.5707964],\n",
       "       [ 16.       ,   1.5707964],\n",
       "       [ 18.       ,   1.5707964],\n",
       "       [ 61.       ,   1.5707964],\n",
       "       [105.       ,   1.5707964],\n",
       "       [149.       ,   1.5707964],\n",
       "       [193.       ,   1.5707964],\n",
       "       [238.       ,   1.5707964],\n",
       "       [282.       ,   1.5707964],\n",
       "       [326.       ,   1.5707964],\n",
       "       [369.       ,   1.5707964],\n",
       "       [385.       ,   1.5707964]], dtype=float32)"
      ]
     },
     "execution_count": 516,
     "metadata": {},
     "output_type": "execute_result"
    }
   ],
   "source": [
    "\n",
    "#Convert to numpy arrays. \n",
    "horizontal_lines_np = np.concatenate( horizontal_lines, axis=0 )\n",
    "vertical_lines_np = np.concatenate( vertical_lines, axis=0 )\n",
    "horizontal_lines_np = np.sort(horizontal_lines_np, axis = 0)\n",
    "vertical_lines_np = np.sort(vertical_lines_np, axis = 0)\n",
    "\n",
    "horizontal_lines_np"
   ]
  },
  {
   "cell_type": "code",
   "execution_count": 517,
   "metadata": {},
   "outputs": [
    {
     "data": {
      "text/plain": [
       "array([[13.,  0.],\n",
       "       [ 2.,  0.],\n",
       "       [43.,  0.],\n",
       "       [44.,  0.],\n",
       "       [44.,  0.],\n",
       "       [44.,  0.],\n",
       "       [45.,  0.],\n",
       "       [44.,  0.],\n",
       "       [44.,  0.],\n",
       "       [43.,  0.],\n",
       "       [16.,  0.]], dtype=float32)"
      ]
     },
     "execution_count": 517,
     "metadata": {},
     "output_type": "execute_result"
    }
   ],
   "source": [
    "linediff_hor = np.diff(horizontal_lines_np, axis = 0)\n",
    "linediff_ver = np.diff(vertical_lines_np, axis = 0)\n",
    "\n",
    "linediff_hor"
   ]
  },
  {
   "cell_type": "code",
   "execution_count": 518,
   "metadata": {},
   "outputs": [],
   "source": [
    "#Remove lines which are very close to each other so that the board detection will be easier. \n",
    "def filter_lines(lines, linediff):\n",
    "    indices_to_delete = []\n",
    "    for index, diff in enumerate(linediff): \n",
    "        if(diff[0] <= 10):\n",
    "            indices_to_delete.append(index)\n",
    "    return np.delete(lines, indices_to_delete,0)\n"
   ]
  },
  {
   "cell_type": "code",
   "execution_count": 519,
   "metadata": {},
   "outputs": [],
   "source": [
    "filtered_horizontal_lines = filter_lines(horizontal_lines_np, linediff_hor)\n",
    "filtered_vertical_lines = filter_lines(vertical_lines_np, linediff_ver)"
   ]
  },
  {
   "cell_type": "code",
   "execution_count": 520,
   "metadata": {},
   "outputs": [],
   "source": [
    "img = cv2.imread(image_path)\n",
    "for line in filtered_horizontal_lines:\n",
    "    rho = line[0]\n",
    "    theta = line[1]\n",
    "    a = np.cos(theta)\n",
    "    b = np.sin(theta)\n",
    "    x0 = a*rho\n",
    "    y0 = b*rho\n",
    "    x1 = int(x0 + 5000*(-b))\n",
    "    y1 = int(y0 + 5000*(a))\n",
    "    x2 = int(x0 - 5000*(-b))\n",
    "    y2 = int(y0 - 5000*(a))\n",
    "\n",
    "    cv2.line(img,(x1,y1),(x2,y2),(0,0,255),2)\n",
    "\n",
    "display_image(img)"
   ]
  },
  {
   "cell_type": "code",
   "execution_count": 521,
   "metadata": {},
   "outputs": [],
   "source": [
    "#update line differences. \n",
    "\n",
    "linediff_hor = np.diff(filtered_horizontal_lines, axis = 0)\n",
    "linediff_ver = np.diff(filtered_vertical_lines, axis = 0)"
   ]
  },
  {
   "cell_type": "code",
   "execution_count": 522,
   "metadata": {},
   "outputs": [
    {
     "data": {
      "text/plain": [
       "array([[15.,  0.],\n",
       "       [43.,  0.],\n",
       "       [44.,  0.],\n",
       "       [44.,  0.],\n",
       "       [44.,  0.],\n",
       "       [45.,  0.],\n",
       "       [44.,  0.],\n",
       "       [44.,  0.],\n",
       "       [43.,  0.],\n",
       "       [16.,  0.]], dtype=float32)"
      ]
     },
     "execution_count": 522,
     "metadata": {},
     "output_type": "execute_result"
    }
   ],
   "source": [
    "linediff_hor"
   ]
  },
  {
   "cell_type": "code",
   "execution_count": 523,
   "metadata": {},
   "outputs": [],
   "source": [
    "def get_chess_lines(lines, linediff):\n",
    "    indices_to_delete = []\n",
    "    #find most occuring difference which is probably the width of the chess square. \n",
    "    m = stats.mode(linediff)\n",
    "    mode = m[0][0][0]\n",
    "    for index, diff in enumerate(linediff): \n",
    "        if(abs(diff[0] - mode) >5):\n",
    "            print(diff[0])\n",
    "            indices_to_delete.append(index+1)\n",
    "    return np.delete(lines, indices_to_delete,0)"
   ]
  },
  {
   "cell_type": "code",
   "execution_count": 524,
   "metadata": {},
   "outputs": [
    {
     "name": "stdout",
     "output_type": "stream",
     "text": [
      "15.0\n",
      "16.0\n",
      "13.0\n",
      "19.0\n",
      "15.0\n",
      "16.0\n"
     ]
    }
   ],
   "source": [
    "chess_lines_hor = get_chess_lines(filtered_horizontal_lines, linediff_hor)\n",
    "chess_lines_ver = get_chess_lines(filtered_vertical_lines, linediff_ver)"
   ]
  },
  {
   "cell_type": "code",
   "execution_count": 525,
   "metadata": {},
   "outputs": [],
   "source": [
    "img = cv2.imread(image_path)\n",
    "for line in chess_lines_hor:\n",
    "    rho = line[0]\n",
    "    theta = line[1]\n",
    "    a = np.cos(theta)\n",
    "    b = np.sin(theta)\n",
    "    x0 = a*rho\n",
    "    y0 = b*rho\n",
    "    x1 = int(x0 + 5000*(-b))\n",
    "    y1 = int(y0 + 5000*(a))\n",
    "    x2 = int(x0 - 5000*(-b))\n",
    "    y2 = int(y0 - 5000*(a))\n",
    "\n",
    "    cv2.line(img,(x1,y1),(x2,y2),(0,0,255),2)\n",
    "    \n",
    "for line in chess_lines_ver:\n",
    "    rho = line[0]\n",
    "    theta = line[1]\n",
    "    a = np.cos(theta)\n",
    "    b = np.sin(theta)\n",
    "    x0 = a*rho\n",
    "    y0 = b*rho\n",
    "    x1 = int(x0 + 5000*(-b))\n",
    "    y1 = int(y0 + 5000*(a))\n",
    "    x2 = int(x0 - 5000*(-b))\n",
    "    y2 = int(y0 - 5000*(a))\n",
    "\n",
    "    cv2.line(img,(x1,y1),(x2,y2),(0,0,255),2)\n",
    "\n",
    "display_image(img)"
   ]
  },
  {
   "cell_type": "code",
   "execution_count": null,
   "metadata": {},
   "outputs": [],
   "source": []
  },
  {
   "cell_type": "code",
   "execution_count": null,
   "metadata": {},
   "outputs": [],
   "source": []
  }
 ],
 "metadata": {
  "kernelspec": {
   "display_name": "Python 3",
   "language": "python",
   "name": "python3"
  },
  "language_info": {
   "codemirror_mode": {
    "name": "ipython",
    "version": 3
   },
   "file_extension": ".py",
   "mimetype": "text/x-python",
   "name": "python",
   "nbconvert_exporter": "python",
   "pygments_lexer": "ipython3",
   "version": "3.7.3"
  }
 },
 "nbformat": 4,
 "nbformat_minor": 2
}
