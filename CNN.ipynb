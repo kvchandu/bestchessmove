{
 "cells": [
  {
   "cell_type": "code",
   "execution_count": 1,
   "metadata": {},
   "outputs": [],
   "source": [
    "import numpy as np"
   ]
  },
  {
   "cell_type": "code",
   "execution_count": 2,
   "metadata": {},
   "outputs": [],
   "source": [
    "X_train = np.load('dataset_x.npy')"
   ]
  },
  {
   "cell_type": "code",
   "execution_count": 3,
   "metadata": {},
   "outputs": [],
   "source": [
    "Y_train = np.load('dataset_y.npy', allow_pickle = True)"
   ]
  },
  {
   "cell_type": "code",
   "execution_count": 4,
   "metadata": {},
   "outputs": [],
   "source": [
    "X_train = np.swapaxes(X_train, 0, 2)"
   ]
  },
  {
   "cell_type": "code",
   "execution_count": 5,
   "metadata": {},
   "outputs": [
    {
     "data": {
      "text/plain": [
       "(512, 28, 28)"
      ]
     },
     "execution_count": 5,
     "metadata": {},
     "output_type": "execute_result"
    }
   ],
   "source": [
    "X_train.shape"
   ]
  },
  {
   "cell_type": "code",
   "execution_count": 6,
   "metadata": {},
   "outputs": [],
   "source": [
    "X_train=np.array(X_train, dtype=np.float64)\n",
    "\n",
    "X_train = X_train.reshape(X_train.shape[0], 28, 28, 1)\n",
    "input_shape = (28, 28, 1)\n",
    "X_train /= 255\n",
    "\n"
   ]
  },
  {
   "cell_type": "code",
   "execution_count": null,
   "metadata": {},
   "outputs": [],
   "source": [
    "\n",
    "\n"
   ]
  },
  {
   "cell_type": "code",
   "execution_count": 7,
   "metadata": {},
   "outputs": [
    {
     "name": "stderr",
     "output_type": "stream",
     "text": [
      "Using TensorFlow backend.\n"
     ]
    },
    {
     "name": "stdout",
     "output_type": "stream",
     "text": [
      "Epoch 1/100\n",
      "512/512 [==============================] - 0s 866us/step - loss: 1.8886 - accuracy: 0.4551\n",
      "Epoch 2/100\n",
      "512/512 [==============================] - 0s 596us/step - loss: 0.6744 - accuracy: 0.9238\n",
      "Epoch 3/100\n",
      "512/512 [==============================] - 0s 582us/step - loss: 0.2845 - accuracy: 0.9648\n",
      "Epoch 4/100\n",
      "512/512 [==============================] - 0s 599us/step - loss: 0.2209 - accuracy: 0.9688\n",
      "Epoch 5/100\n",
      "512/512 [==============================] - 0s 604us/step - loss: 0.2153 - accuracy: 0.9746\n",
      "Epoch 6/100\n",
      "512/512 [==============================] - 0s 603us/step - loss: 0.2047 - accuracy: 0.9668\n",
      "Epoch 7/100\n",
      "512/512 [==============================] - 0s 589us/step - loss: 0.1962 - accuracy: 0.9746\n",
      "Epoch 8/100\n",
      "512/512 [==============================] - 0s 601us/step - loss: 0.1675 - accuracy: 0.9746\n",
      "Epoch 9/100\n",
      "512/512 [==============================] - 0s 608us/step - loss: 0.1432 - accuracy: 0.9727\n",
      "Epoch 10/100\n",
      "512/512 [==============================] - 0s 616us/step - loss: 0.1648 - accuracy: 0.9746\n",
      "Epoch 11/100\n",
      "512/512 [==============================] - 0s 606us/step - loss: 0.1494 - accuracy: 0.9746\n",
      "Epoch 12/100\n",
      "512/512 [==============================] - 0s 640us/step - loss: 0.1486 - accuracy: 0.9688\n",
      "Epoch 13/100\n",
      "512/512 [==============================] - 0s 664us/step - loss: 0.1726 - accuracy: 0.9727\n",
      "Epoch 14/100\n",
      "512/512 [==============================] - 0s 649us/step - loss: 0.1522 - accuracy: 0.9746\n",
      "Epoch 15/100\n",
      "512/512 [==============================] - 0s 653us/step - loss: 0.1403 - accuracy: 0.9746\n",
      "Epoch 16/100\n",
      "512/512 [==============================] - 0s 653us/step - loss: 0.1513 - accuracy: 0.9727\n",
      "Epoch 17/100\n",
      "512/512 [==============================] - 0s 648us/step - loss: 0.1319 - accuracy: 0.9746\n",
      "Epoch 18/100\n",
      "512/512 [==============================] - 0s 600us/step - loss: 0.1422 - accuracy: 0.9727\n",
      "Epoch 19/100\n",
      "512/512 [==============================] - 0s 588us/step - loss: 0.1339 - accuracy: 0.9746\n",
      "Epoch 20/100\n",
      "512/512 [==============================] - 0s 586us/step - loss: 0.1506 - accuracy: 0.9746\n",
      "Epoch 21/100\n",
      "512/512 [==============================] - 0s 613us/step - loss: 0.1256 - accuracy: 0.9727\n",
      "Epoch 22/100\n",
      "512/512 [==============================] - 0s 589us/step - loss: 0.1247 - accuracy: 0.9746\n",
      "Epoch 23/100\n",
      "512/512 [==============================] - 0s 614us/step - loss: 0.1394 - accuracy: 0.9707\n",
      "Epoch 24/100\n",
      "512/512 [==============================] - 0s 691us/step - loss: 0.1070 - accuracy: 0.9746\n",
      "Epoch 25/100\n",
      "512/512 [==============================] - 0s 623us/step - loss: 0.1123 - accuracy: 0.9727\n",
      "Epoch 26/100\n",
      "512/512 [==============================] - 0s 599us/step - loss: 0.1468 - accuracy: 0.9688\n",
      "Epoch 27/100\n",
      "512/512 [==============================] - 0s 573us/step - loss: 0.1462 - accuracy: 0.9746\n",
      "Epoch 28/100\n",
      "512/512 [==============================] - 0s 590us/step - loss: 0.1345 - accuracy: 0.9727\n",
      "Epoch 29/100\n",
      "512/512 [==============================] - 0s 600us/step - loss: 0.1235 - accuracy: 0.9746\n",
      "Epoch 30/100\n",
      "512/512 [==============================] - 0s 590us/step - loss: 0.1176 - accuracy: 0.9746\n",
      "Epoch 31/100\n",
      "512/512 [==============================] - 0s 608us/step - loss: 0.1245 - accuracy: 0.9746\n",
      "Epoch 32/100\n",
      "512/512 [==============================] - 0s 589us/step - loss: 0.1286 - accuracy: 0.9746\n",
      "Epoch 33/100\n",
      "512/512 [==============================] - 0s 651us/step - loss: 0.1265 - accuracy: 0.9727\n",
      "Epoch 34/100\n",
      "512/512 [==============================] - 0s 638us/step - loss: 0.1245 - accuracy: 0.9746\n",
      "Epoch 35/100\n",
      "512/512 [==============================] - 0s 630us/step - loss: 0.1277 - accuracy: 0.9727\n",
      "Epoch 36/100\n",
      "512/512 [==============================] - 0s 602us/step - loss: 0.1061 - accuracy: 0.9727\n",
      "Epoch 37/100\n",
      "512/512 [==============================] - 0s 659us/step - loss: 0.1313 - accuracy: 0.9746\n",
      "Epoch 38/100\n",
      "512/512 [==============================] - 0s 633us/step - loss: 0.1055 - accuracy: 0.9766\n",
      "Epoch 39/100\n",
      "512/512 [==============================] - 0s 599us/step - loss: 0.1232 - accuracy: 0.9746\n",
      "Epoch 40/100\n",
      "512/512 [==============================] - 0s 656us/step - loss: 0.1153 - accuracy: 0.9727\n",
      "Epoch 41/100\n",
      "512/512 [==============================] - 0s 661us/step - loss: 0.1256 - accuracy: 0.9746\n",
      "Epoch 42/100\n",
      "512/512 [==============================] - 0s 637us/step - loss: 0.1153 - accuracy: 0.9746\n",
      "Epoch 43/100\n",
      "512/512 [==============================] - 0s 617us/step - loss: 0.1118 - accuracy: 0.9727\n",
      "Epoch 44/100\n",
      "512/512 [==============================] - 0s 712us/step - loss: 0.1187 - accuracy: 0.9746\n",
      "Epoch 45/100\n",
      "512/512 [==============================] - 0s 668us/step - loss: 0.1101 - accuracy: 0.9746\n",
      "Epoch 46/100\n",
      "512/512 [==============================] - 0s 643us/step - loss: 0.1169 - accuracy: 0.9727\n",
      "Epoch 47/100\n",
      "512/512 [==============================] - 0s 700us/step - loss: 0.1189 - accuracy: 0.9766\n",
      "Epoch 48/100\n",
      "512/512 [==============================] - 0s 614us/step - loss: 0.1185 - accuracy: 0.9746\n",
      "Epoch 49/100\n",
      "512/512 [==============================] - 0s 584us/step - loss: 0.1198 - accuracy: 0.9727\n",
      "Epoch 50/100\n",
      "512/512 [==============================] - 0s 651us/step - loss: 0.1173 - accuracy: 0.9746\n",
      "Epoch 51/100\n",
      "512/512 [==============================] - 0s 638us/step - loss: 0.1141 - accuracy: 0.9746\n",
      "Epoch 52/100\n",
      "512/512 [==============================] - 0s 662us/step - loss: 0.1025 - accuracy: 0.9766\n",
      "Epoch 53/100\n",
      "512/512 [==============================] - 0s 655us/step - loss: 0.1085 - accuracy: 0.9746\n",
      "Epoch 54/100\n",
      "512/512 [==============================] - 0s 658us/step - loss: 0.1043 - accuracy: 0.9746\n",
      "Epoch 55/100\n",
      "512/512 [==============================] - 0s 627us/step - loss: 0.1137 - accuracy: 0.9746\n",
      "Epoch 56/100\n",
      "512/512 [==============================] - ETA: 0s - loss: 0.1183 - accuracy: 0.97 - 0s 620us/step - loss: 0.1047 - accuracy: 0.9746\n",
      "Epoch 57/100\n",
      "512/512 [==============================] - 0s 643us/step - loss: 0.1257 - accuracy: 0.9727\n",
      "Epoch 58/100\n",
      "512/512 [==============================] - 0s 641us/step - loss: 0.1144 - accuracy: 0.9727\n",
      "Epoch 59/100\n",
      "512/512 [==============================] - 0s 618us/step - loss: 0.1259 - accuracy: 0.9727\n",
      "Epoch 60/100\n",
      "512/512 [==============================] - 0s 592us/step - loss: 0.1080 - accuracy: 0.9746\n",
      "Epoch 61/100\n",
      "512/512 [==============================] - 0s 647us/step - loss: 0.1191 - accuracy: 0.9727\n",
      "Epoch 62/100\n",
      "512/512 [==============================] - 0s 650us/step - loss: 0.1144 - accuracy: 0.9746\n",
      "Epoch 63/100\n",
      "512/512 [==============================] - 0s 614us/step - loss: 0.1074 - accuracy: 0.9746\n",
      "Epoch 64/100\n",
      "512/512 [==============================] - 0s 614us/step - loss: 0.1131 - accuracy: 0.9746\n",
      "Epoch 65/100\n",
      "512/512 [==============================] - 0s 616us/step - loss: 0.1208 - accuracy: 0.9727\n",
      "Epoch 66/100\n",
      "512/512 [==============================] - 0s 619us/step - loss: 0.1167 - accuracy: 0.9746\n",
      "Epoch 67/100\n",
      "512/512 [==============================] - 0s 624us/step - loss: 0.1183 - accuracy: 0.9746\n",
      "Epoch 68/100\n",
      "512/512 [==============================] - 0s 641us/step - loss: 0.1180 - accuracy: 0.9746\n",
      "Epoch 69/100\n",
      "512/512 [==============================] - 0s 602us/step - loss: 0.1185 - accuracy: 0.9727\n",
      "Epoch 70/100\n",
      "512/512 [==============================] - 0s 591us/step - loss: 0.1141 - accuracy: 0.9746\n",
      "Epoch 71/100\n",
      "512/512 [==============================] - 0s 666us/step - loss: 0.0995 - accuracy: 0.9746\n",
      "Epoch 72/100\n",
      "512/512 [==============================] - 0s 612us/step - loss: 0.1148 - accuracy: 0.9746\n",
      "Epoch 73/100\n",
      "512/512 [==============================] - 0s 602us/step - loss: 0.1131 - accuracy: 0.9746\n",
      "Epoch 74/100\n",
      "512/512 [==============================] - 0s 610us/step - loss: 0.1149 - accuracy: 0.9766\n",
      "Epoch 75/100\n",
      "512/512 [==============================] - 0s 601us/step - loss: 0.1053 - accuracy: 0.9707\n",
      "Epoch 76/100\n",
      "512/512 [==============================] - 0s 626us/step - loss: 0.1111 - accuracy: 0.9727\n",
      "Epoch 77/100\n",
      "512/512 [==============================] - 0s 629us/step - loss: 0.1033 - accuracy: 0.9746\n",
      "Epoch 78/100\n",
      "512/512 [==============================] - 0s 610us/step - loss: 0.1119 - accuracy: 0.9746\n",
      "Epoch 79/100\n"
     ]
    },
    {
     "name": "stdout",
     "output_type": "stream",
     "text": [
      "512/512 [==============================] - 0s 584us/step - loss: 0.0977 - accuracy: 0.9746\n",
      "Epoch 80/100\n",
      "512/512 [==============================] - 0s 603us/step - loss: 0.1145 - accuracy: 0.9746\n",
      "Epoch 81/100\n",
      "512/512 [==============================] - 0s 610us/step - loss: 0.1152 - accuracy: 0.9707\n",
      "Epoch 82/100\n",
      "512/512 [==============================] - 0s 584us/step - loss: 0.1064 - accuracy: 0.9746\n",
      "Epoch 83/100\n",
      "512/512 [==============================] - 0s 594us/step - loss: 0.0969 - accuracy: 0.9727\n",
      "Epoch 84/100\n",
      "512/512 [==============================] - 0s 606us/step - loss: 0.1196 - accuracy: 0.9746\n",
      "Epoch 85/100\n",
      "512/512 [==============================] - 0s 608us/step - loss: 0.1069 - accuracy: 0.9746\n",
      "Epoch 86/100\n",
      "512/512 [==============================] - 0s 591us/step - loss: 0.1139 - accuracy: 0.9746\n",
      "Epoch 87/100\n",
      "512/512 [==============================] - 0s 605us/step - loss: 0.1102 - accuracy: 0.9746\n",
      "Epoch 88/100\n",
      "512/512 [==============================] - 0s 595us/step - loss: 0.1076 - accuracy: 0.9746\n",
      "Epoch 89/100\n",
      "512/512 [==============================] - 0s 586us/step - loss: 0.1065 - accuracy: 0.9746\n",
      "Epoch 90/100\n",
      "512/512 [==============================] - 0s 590us/step - loss: 0.1054 - accuracy: 0.9727\n",
      "Epoch 91/100\n",
      "512/512 [==============================] - 0s 594us/step - loss: 0.1097 - accuracy: 0.9707\n",
      "Epoch 92/100\n",
      "512/512 [==============================] - 0s 580us/step - loss: 0.1057 - accuracy: 0.9766\n",
      "Epoch 93/100\n",
      "512/512 [==============================] - 0s 601us/step - loss: 0.0987 - accuracy: 0.9746\n",
      "Epoch 94/100\n",
      "512/512 [==============================] - 0s 598us/step - loss: 0.1115 - accuracy: 0.9746\n",
      "Epoch 95/100\n",
      "512/512 [==============================] - 0s 580us/step - loss: 0.1100 - accuracy: 0.9746\n",
      "Epoch 96/100\n",
      "512/512 [==============================] - 0s 606us/step - loss: 0.0947 - accuracy: 0.9746\n",
      "Epoch 97/100\n",
      "512/512 [==============================] - 0s 594us/step - loss: 0.1022 - accuracy: 0.9727\n",
      "Epoch 98/100\n",
      "512/512 [==============================] - 0s 617us/step - loss: 0.0979 - accuracy: 0.9727\n",
      "Epoch 99/100\n",
      "512/512 [==============================] - 0s 613us/step - loss: 0.1035 - accuracy: 0.9766\n",
      "Epoch 100/100\n",
      "512/512 [==============================] - 0s 603us/step - loss: 0.1095 - accuracy: 0.9727\n"
     ]
    },
    {
     "data": {
      "text/plain": [
       "<keras.callbacks.callbacks.History at 0x284c89d5e80>"
      ]
     },
     "execution_count": 7,
     "metadata": {},
     "output_type": "execute_result"
    }
   ],
   "source": [
    "from keras.models import Sequential\n",
    "from keras.layers import Dense, Conv2D, Dropout, Flatten, MaxPooling2D\n",
    "import tensorflow as tf\n",
    "# Creating a Sequential Model and adding the layers\n",
    "model = Sequential()\n",
    "model.add(Conv2D(28, kernel_size=(3,3), input_shape=input_shape))\n",
    "model.add(MaxPooling2D(pool_size=(2, 2)))\n",
    "model.add(Flatten()) # Flattening the 2D arrays for fully connected layers\n",
    "model.add(Dense(128, activation=tf.nn.relu))\n",
    "model.add(Dropout(0.2))\n",
    "model.add(Dense(13,activation=tf.nn.softmax))\n",
    "\n",
    "model.compile(optimizer='adam', \n",
    "              loss='sparse_categorical_crossentropy', \n",
    "              metrics=['accuracy'])\n",
    "model.fit(x=X_train,y=Y_train, epochs=100)"
   ]
  },
  {
   "cell_type": "code",
   "execution_count": 10,
   "metadata": {},
   "outputs": [
    {
     "name": "stdout",
     "output_type": "stream",
     "text": [
      "\r",
      "9/9 [==============================] - 0s 167us/step\n"
     ]
    },
    {
     "data": {
      "text/plain": [
       "[0.0025251591578125954, 1.0]"
      ]
     },
     "execution_count": 10,
     "metadata": {},
     "output_type": "execute_result"
    }
   ],
   "source": [
    "X_test = np.load('dataset_test_x.npy')\n",
    "Y_test = np.load('dataset_test_y.npy', allow_pickle = True)\n",
    "X_test = np.swapaxes(X_test, 0, 2)\n",
    "\n",
    "X_test = X_test.reshape(X_test.shape[0], 28, 28, 1)\n",
    "X_test = X_test.astype('float32')\n",
    "X_test /= 255\n",
    "\n",
    "\n",
    "model.evaluate(X_test, Y_test)"
   ]
  },
  {
   "cell_type": "code",
   "execution_count": 9,
   "metadata": {},
   "outputs": [],
   "source": [
    "from keras.models import load_model\n",
    "model.save(\"model.h5\")"
   ]
  },
  {
   "cell_type": "code",
   "execution_count": 11,
   "metadata": {},
   "outputs": [
    {
     "ename": "ModuleNotFoundError",
     "evalue": "No module named 'stockfish'",
     "output_type": "error",
     "traceback": [
      "\u001b[1;31m---------------------------------------------------------------------------\u001b[0m",
      "\u001b[1;31mModuleNotFoundError\u001b[0m                       Traceback (most recent call last)",
      "\u001b[1;32m<ipython-input-11-8c534377b56c>\u001b[0m in \u001b[0;36m<module>\u001b[1;34m\u001b[0m\n\u001b[1;32m----> 1\u001b[1;33m \u001b[1;32mfrom\u001b[0m \u001b[0mstockfish\u001b[0m \u001b[1;32mimport\u001b[0m \u001b[0mStockfish\u001b[0m\u001b[1;33m\u001b[0m\u001b[1;33m\u001b[0m\u001b[0m\n\u001b[0m\u001b[0;32m      2\u001b[0m \u001b[1;33m\u001b[0m\u001b[0m\n\u001b[0;32m      3\u001b[0m \u001b[0mstockfish\u001b[0m \u001b[1;33m=\u001b[0m \u001b[0mStockfish\u001b[0m\u001b[1;33m(\u001b[0m\u001b[1;34mr'D:\\stockfish-10-win\\Windows\\stockfish_10_x64'\u001b[0m\u001b[1;33m)\u001b[0m\u001b[1;33m\u001b[0m\u001b[1;33m\u001b[0m\u001b[0m\n",
      "\u001b[1;31mModuleNotFoundError\u001b[0m: No module named 'stockfish'"
     ]
    }
   ],
   "source": []
  },
  {
   "cell_type": "code",
   "execution_count": null,
   "metadata": {},
   "outputs": [],
   "source": []
  }
 ],
 "metadata": {
  "kernelspec": {
   "display_name": "Python 3",
   "language": "python",
   "name": "python3"
  },
  "language_info": {
   "codemirror_mode": {
    "name": "ipython",
    "version": 3
   },
   "file_extension": ".py",
   "mimetype": "text/x-python",
   "name": "python",
   "nbconvert_exporter": "python",
   "pygments_lexer": "ipython3",
   "version": "3.7.3"
  }
 },
 "nbformat": 4,
 "nbformat_minor": 2
}
