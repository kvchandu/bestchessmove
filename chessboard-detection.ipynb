{
 "cells": [
  {
   "cell_type": "markdown",
   "metadata": {},
   "source": [
    "# Loading Image\n",
    "\n",
    "We use this section to load an image and preprocess it. "
   ]
  },
  {
   "cell_type": "code",
   "execution_count": 1,
   "metadata": {},
   "outputs": [],
   "source": [
    "# Imports for visualization\n",
    "import cv2\n",
    "import numpy as np\n",
    "from matplotlib import pyplot as plt\n",
    "from scipy import stats\n",
    "import pyautogui"
   ]
  },
  {
   "cell_type": "code",
   "execution_count": 2,
   "metadata": {},
   "outputs": [],
   "source": [
    "def display_image(img):\n",
    "    #imS = cv2.resize(img, (1000, 700))  # Resize image\n",
    "    imS = cv2.resize(img, (800, 800))\n",
    "    cv2.imshow(\"image\", imS)\n",
    "    cv2.waitKey(0)\n",
    "\n",
    "    cv2.waitKey(0)\n",
    "    cv2.destroyAllWindows()\n",
    "    \n",
    "\n",
    "def make_kernel(a):\n",
    "  \"\"\"Transform a 2D array into a convolution kernel\"\"\"\n",
    "  a = np.asarray(a)\n",
    "  a = a.reshape(list(a.shape) + [1,1])\n",
    "  return a"
   ]
  },
  {
   "cell_type": "code",
   "execution_count": 3,
   "metadata": {},
   "outputs": [],
   "source": [
    "def take_screenshot():\n",
    "    myScreenshot = pyautogui.screenshot(region=(670,165, 695, 700))\n",
    "    myScreenshot.save(r'screenshot1.png')\n",
    "    return r'screenshot1.png'"
   ]
  },
  {
   "cell_type": "code",
   "execution_count": 4,
   "metadata": {},
   "outputs": [],
   "source": [
    "import tkinter as tk\n",
    "from tkinter import filedialog\n",
    "\n",
    "root= tk.Tk()\n",
    "\n",
    "canvas1 = tk.Canvas(root, width = 300, height = 300)\n",
    "canvas1.pack()\n",
    "\n",
    "def takeScreenshot ():\n",
    "    \n",
    "    myScreenshot = pyautogui.screenshot()\n",
    "    file_path = filedialog.asksaveasfilename(defaultextension='.png')\n",
    "    myScreenshot.save(file_path)\n",
    "\n",
    "myButton = tk.Button(text='Take Screenshot', command=take_screenshot, bg='green',fg='white',font= 10)\n",
    "canvas1.create_window(150, 150, window=myButton)\n",
    "\n",
    "root.mainloop()"
   ]
  },
  {
   "cell_type": "code",
   "execution_count": 5,
   "metadata": {},
   "outputs": [],
   "source": [
    "#Load image and convert to grayscale\n",
    "image_path = 'screenshot1.png'\n",
    "img = cv2.imread(image_path)\n",
    "\n",
    "gray = cv2.cvtColor(img, cv2.COLOR_BGR2GRAY)\n",
    "\n",
    "#Perform Hough transform\n",
    "gray = cv2.cvtColor(img, cv2.COLOR_BGR2GRAY)\n",
    "edges = cv2.Canny(gray,50,150,apertureSize = 3)\n",
    "lines = cv2.HoughLines(edges,1,np.pi/180,200)\n",
    "\n"
   ]
  },
  {
   "cell_type": "code",
   "execution_count": 6,
   "metadata": {},
   "outputs": [],
   "source": [
    "vertical_lines = []\n",
    "horizontal_lines = []\n",
    "#Display all lines\n",
    "for line in lines:\n",
    "    rho = line[0][0]\n",
    "    theta = line[0][1]\n",
    "    if(theta == 0):\n",
    "        vertical_lines.append(line)\n",
    "\n",
    "\n",
    "\n",
    "#Display all lines\n",
    "for line in lines:\n",
    "    rho = line[0][0]\n",
    "    theta = line[0][1]\n",
    "    if theta != 0.0:        \n",
    "        horizontal_lines.append(line)\n",
    "        "
   ]
  },
  {
   "cell_type": "code",
   "execution_count": 7,
   "metadata": {},
   "outputs": [],
   "source": [
    "def checkMatch(lineset):\n",
    "    \"\"\"Checks whether there exists 7 lines of consistent increasing order in set of lines\"\"\"\n",
    "    linediff = np.diff(lineset)\n",
    "    x = 0\n",
    "    cnt = 0\n",
    "    for line in linediff:\n",
    "        # Within 5 px of the other (allowing for minor image errors)\n",
    "        if np.abs(line - x) < 5:\n",
    "            cnt += 1\n",
    "        else:\n",
    "            cnt = 0\n",
    "            x = line\n",
    "    return cnt == 5"
   ]
  },
  {
   "cell_type": "code",
   "execution_count": 8,
   "metadata": {},
   "outputs": [
    {
     "data": {
      "text/plain": [
       "13"
      ]
     },
     "execution_count": 8,
     "metadata": {},
     "output_type": "execute_result"
    }
   ],
   "source": [
    "len(horizontal_lines)"
   ]
  },
  {
   "cell_type": "code",
   "execution_count": 9,
   "metadata": {},
   "outputs": [],
   "source": [
    "img = cv2.imread(image_path)\n",
    "for line in vertical_lines:\n",
    "    rho = line[0][0]\n",
    "    theta = line[0][1]\n",
    "    a = np.cos(theta)\n",
    "    b = np.sin(theta)\n",
    "    x0 = a*rho\n",
    "    y0 = b*rho\n",
    "    x1 = int(x0 + 5000*(-b))\n",
    "    y1 = int(y0 + 5000*(a))\n",
    "    x2 = int(x0 - 5000*(-b))\n",
    "    y2 = int(y0 - 5000*(a))\n",
    "\n",
    "    cv2.line(img,(x1,y1),(x2,y2),(0,0,255),2)\n",
    "\n",
    "display_image(img)"
   ]
  },
  {
   "cell_type": "code",
   "execution_count": 10,
   "metadata": {},
   "outputs": [],
   "source": [
    "img = cv2.imread(image_path)\n",
    "for line in horizontal_lines:\n",
    "    rho = line[0][0]\n",
    "    theta = line[0][1]\n",
    "    a = np.cos(theta)\n",
    "    b = np.sin(theta)\n",
    "    x0 = a*rho\n",
    "    y0 = b*rho\n",
    "    x1 = int(x0 + 5000*(-b))\n",
    "    y1 = int(y0 + 5000*(a))\n",
    "    x2 = int(x0 - 5000*(-b))\n",
    "    y2 = int(y0 - 5000*(a))\n",
    "\n",
    "    cv2.line(img,(x1,y1),(x2,y2),(0,0,255),2)\n",
    "\n",
    "display_image(img)"
   ]
  },
  {
   "cell_type": "code",
   "execution_count": 11,
   "metadata": {},
   "outputs": [
    {
     "data": {
      "text/plain": [
       "array([[  2.       ,   1.5707964],\n",
       "       [ 75.       ,   1.5707964],\n",
       "       [ 78.       ,   1.5707964],\n",
       "       [ 88.       ,   1.5707964],\n",
       "       [174.       ,   1.5707964],\n",
       "       [251.       ,   1.5707964],\n",
       "       [260.       ,   1.5707964],\n",
       "       [346.       ,   1.5707964],\n",
       "       [432.       ,   1.5707964],\n",
       "       [518.       ,   1.5707964],\n",
       "       [595.       ,   1.5707964],\n",
       "       [604.       ,   1.5707964],\n",
       "       [691.       ,   1.5707964]], dtype=float32)"
      ]
     },
     "execution_count": 11,
     "metadata": {},
     "output_type": "execute_result"
    }
   ],
   "source": [
    "\n",
    "#Convert to numpy arrays. \n",
    "horizontal_lines_np = np.concatenate( horizontal_lines, axis=0 )\n",
    "vertical_lines_np = np.concatenate( vertical_lines, axis=0 )\n",
    "horizontal_lines_np = np.sort(horizontal_lines_np, axis = 0)\n",
    "vertical_lines_np = np.sort(vertical_lines_np, axis = 0)\n",
    "\n",
    "horizontal_lines_np"
   ]
  },
  {
   "cell_type": "code",
   "execution_count": 12,
   "metadata": {},
   "outputs": [
    {
     "data": {
      "text/plain": [
       "array([[73.,  0.],\n",
       "       [ 3.,  0.],\n",
       "       [10.,  0.],\n",
       "       [86.,  0.],\n",
       "       [77.,  0.],\n",
       "       [ 9.,  0.],\n",
       "       [86.,  0.],\n",
       "       [86.,  0.],\n",
       "       [86.,  0.],\n",
       "       [77.,  0.],\n",
       "       [ 9.,  0.],\n",
       "       [87.,  0.]], dtype=float32)"
      ]
     },
     "execution_count": 12,
     "metadata": {},
     "output_type": "execute_result"
    }
   ],
   "source": [
    "linediff_hor = np.diff(horizontal_lines_np, axis = 0)\n",
    "linediff_ver = np.diff(vertical_lines_np, axis = 0)\n",
    "\n",
    "linediff_hor"
   ]
  },
  {
   "cell_type": "code",
   "execution_count": 13,
   "metadata": {},
   "outputs": [],
   "source": [
    "#Remove lines which are very close to each other so that the board detection will be easier. \n",
    "def filter_lines(lines, linediff):\n",
    "    indices_to_delete = []\n",
    "    for index, diff in enumerate(linediff): \n",
    "        if(diff[0] <= 10):\n",
    "            indices_to_delete.append(index)\n",
    "    return np.delete(lines, indices_to_delete,0)\n"
   ]
  },
  {
   "cell_type": "code",
   "execution_count": 14,
   "metadata": {},
   "outputs": [],
   "source": [
    "filtered_horizontal_lines = filter_lines(horizontal_lines_np, linediff_hor)\n",
    "filtered_vertical_lines = filter_lines(vertical_lines_np, linediff_ver)"
   ]
  },
  {
   "cell_type": "code",
   "execution_count": 15,
   "metadata": {},
   "outputs": [],
   "source": [
    "img = cv2.imread(image_path)\n",
    "for line in filtered_horizontal_lines:\n",
    "    rho = line[0]\n",
    "    theta = line[1]\n",
    "    a = np.cos(theta)\n",
    "    b = np.sin(theta)\n",
    "    x0 = a*rho\n",
    "    y0 = b*rho\n",
    "    x1 = int(x0 + 5000*(-b))\n",
    "    y1 = int(y0 + 5000*(a))\n",
    "    x2 = int(x0 - 5000*(-b))\n",
    "    y2 = int(y0 - 5000*(a))\n",
    "\n",
    "    cv2.line(img,(x1,y1),(x2,y2),(0,0,255),2)\n",
    "\n",
    "display_image(img)"
   ]
  },
  {
   "cell_type": "code",
   "execution_count": 16,
   "metadata": {},
   "outputs": [],
   "source": [
    "#update line differences. \n",
    "\n",
    "linediff_hor = np.diff(filtered_horizontal_lines, axis = 0)\n",
    "linediff_ver = np.diff(filtered_vertical_lines, axis = 0)"
   ]
  },
  {
   "cell_type": "code",
   "execution_count": 17,
   "metadata": {},
   "outputs": [
    {
     "data": {
      "text/plain": [
       "array([[86.,  0.],\n",
       "       [86.,  0.],\n",
       "       [86.,  0.],\n",
       "       [86.,  0.],\n",
       "       [86.,  0.],\n",
       "       [86.,  0.],\n",
       "       [86.,  0.],\n",
       "       [87.,  0.]], dtype=float32)"
      ]
     },
     "execution_count": 17,
     "metadata": {},
     "output_type": "execute_result"
    }
   ],
   "source": [
    "linediff_hor"
   ]
  },
  {
   "cell_type": "code",
   "execution_count": 18,
   "metadata": {},
   "outputs": [],
   "source": [
    "def get_chess_lines(lines, linediff):\n",
    "    indices_to_delete = []\n",
    "    #find most occuring difference which is probably the width of the chess square. \n",
    "    m = stats.mode(linediff)\n",
    "    mode = m[0][0][0]\n",
    "    for index, diff in enumerate(linediff): \n",
    "        if(abs(diff[0] - mode) >5):\n",
    "            print(diff[0])\n",
    "            indices_to_delete.append(index+1)\n",
    "    return np.delete(lines, indices_to_delete,0)"
   ]
  },
  {
   "cell_type": "code",
   "execution_count": 19,
   "metadata": {},
   "outputs": [],
   "source": [
    "chess_lines_hor = get_chess_lines(filtered_horizontal_lines, linediff_hor)\n",
    "chess_lines_ver = get_chess_lines(filtered_vertical_lines, linediff_ver)"
   ]
  },
  {
   "cell_type": "code",
   "execution_count": 20,
   "metadata": {},
   "outputs": [
    {
     "name": "stdout",
     "output_type": "stream",
     "text": [
      "[[  2.          1.5707964]\n",
      " [ 88.          1.5707964]\n",
      " [174.          1.5707964]\n",
      " [260.          1.5707964]\n",
      " [346.          1.5707964]\n",
      " [432.          1.5707964]\n",
      " [518.          1.5707964]\n",
      " [604.          1.5707964]\n",
      " [691.          1.5707964]]\n"
     ]
    }
   ],
   "source": [
    "img = cv2.imread(image_path)\n",
    "for line in chess_lines_hor:\n",
    "    rho = line[0]\n",
    "    theta = line[1]\n",
    "    a = np.cos(theta)\n",
    "    b = np.sin(theta)\n",
    "    x0 = a*rho\n",
    "    y0 = b*rho\n",
    "    x1 = int(x0 + 5000*(-b))\n",
    "    y1 = int(y0 + 5000*(a))\n",
    "    x2 = int(x0 - 5000*(-b))\n",
    "    y2 = int(y0 - 5000*(a))\n",
    "\n",
    "    cv2.line(img,(x1,y1),(x2,y2),(0,0,255),2)\n",
    "    \n",
    "for line in chess_lines_ver:\n",
    "    rho = line[0]\n",
    "    theta = line[1]\n",
    "    a = np.cos(theta)\n",
    "    b = np.sin(theta)\n",
    "    x0 = a*rho\n",
    "    y0 = b*rho\n",
    "    x1 = int(x0 + 5000*(-b))\n",
    "    y1 = int(y0 + 5000*(a))\n",
    "    x2 = int(x0 - 5000*(-b))\n",
    "    y2 = int(y0 - 5000*(a))\n",
    "\n",
    "    cv2.line(img,(x1,y1),(x2,y2),(0,0,255),2)\n",
    "\n",
    "print(chess_lines_hor)\n",
    "    \n",
    "display_image(img)"
   ]
  },
  {
   "cell_type": "code",
   "execution_count": 21,
   "metadata": {},
   "outputs": [],
   "source": [
    "#Get equations of lines:\n",
    "def getIntersection(rho1,theta1,rho2, theta2):\n",
    "    A = np.array([\n",
    "        [np.cos(theta1), np.sin(theta1)],\n",
    "        [np.cos(theta2), np.sin(theta2)]\n",
    "    ])\n",
    "    b = np.array([[rho1], [rho2]])\n",
    "    x0, y0 = np.linalg.solve(A, b)\n",
    "    x0, y0 = int(np.round(x0)), int(np.round(y0))\n",
    "    return [[x0, y0]]\n",
    "    "
   ]
  },
  {
   "cell_type": "code",
   "execution_count": 22,
   "metadata": {},
   "outputs": [],
   "source": [
    "#Get all intersection points of horizontal and vertical lines to get the corners of the chess squares to extract patches. \n",
    "\n",
    "points = []\n",
    "for i in chess_lines_hor:\n",
    "    for j in chess_lines_ver:\n",
    "        rho_hor = i[0]\n",
    "        theta_hor = i[1]\n",
    "        rho_ver = j[0]\n",
    "        theta_ver = j[1]\n",
    "        points.append(getIntersection(rho_hor, theta_hor, rho_ver, theta_ver)[0])"
   ]
  },
  {
   "cell_type": "code",
   "execution_count": 23,
   "metadata": {},
   "outputs": [
    {
     "name": "stdout",
     "output_type": "stream",
     "text": [
      "[1, 2]\n",
      "[87, 2]\n",
      "[173, 2]\n",
      "[259, 2]\n",
      "[345, 2]\n",
      "[431, 2]\n",
      "[517, 2]\n",
      "[603, 2]\n",
      "[690, 2]\n",
      "[1, 88]\n",
      "[87, 88]\n",
      "[173, 88]\n",
      "[259, 88]\n",
      "[345, 88]\n",
      "[431, 88]\n",
      "[517, 88]\n",
      "[603, 88]\n",
      "[690, 88]\n",
      "[1, 174]\n",
      "[87, 174]\n",
      "[173, 174]\n",
      "[259, 174]\n",
      "[345, 174]\n",
      "[431, 174]\n",
      "[517, 174]\n",
      "[603, 174]\n",
      "[690, 174]\n",
      "[1, 260]\n",
      "[87, 260]\n",
      "[173, 260]\n",
      "[259, 260]\n",
      "[345, 260]\n",
      "[431, 260]\n",
      "[517, 260]\n",
      "[603, 260]\n",
      "[690, 260]\n",
      "[1, 346]\n",
      "[87, 346]\n",
      "[173, 346]\n",
      "[259, 346]\n",
      "[345, 346]\n",
      "[431, 346]\n",
      "[517, 346]\n",
      "[603, 346]\n",
      "[690, 346]\n",
      "[1, 432]\n",
      "[87, 432]\n",
      "[173, 432]\n",
      "[259, 432]\n",
      "[345, 432]\n",
      "[431, 432]\n",
      "[517, 432]\n",
      "[603, 432]\n",
      "[690, 432]\n",
      "[1, 518]\n",
      "[87, 518]\n",
      "[173, 518]\n",
      "[259, 518]\n",
      "[345, 518]\n",
      "[431, 518]\n",
      "[517, 518]\n",
      "[603, 518]\n",
      "[690, 518]\n",
      "[1, 604]\n",
      "[87, 604]\n",
      "[173, 604]\n",
      "[259, 604]\n",
      "[345, 604]\n",
      "[431, 604]\n",
      "[517, 604]\n",
      "[603, 604]\n",
      "[690, 604]\n",
      "[1, 691]\n",
      "[87, 691]\n",
      "[173, 691]\n",
      "[259, 691]\n",
      "[345, 691]\n",
      "[431, 691]\n",
      "[517, 691]\n",
      "[603, 691]\n",
      "[690, 691]\n"
     ]
    }
   ],
   "source": [
    "# Make empty black image\n",
    "img = cv2.imread(image_path)\n",
    "for point in points:\n",
    "    print(point)\n",
    "    cv2.circle(img, (point[0],point[1]), 5, [0,0,255], thickness=2, lineType=8, shift=0)\n",
    "#image[10,5]=[0,0,255]\n",
    "\n",
    "display_image(img)\n",
    "# # Make one pixel red\n",
    "\n",
    "# # Save\n",
    "# cv2.imwrite(\"result.png\",image)"
   ]
  },
  {
   "cell_type": "code",
   "execution_count": 24,
   "metadata": {},
   "outputs": [
    {
     "name": "stdout",
     "output_type": "stream",
     "text": [
      "81\n"
     ]
    }
   ],
   "source": [
    "# create a 2D list for easier point arrangement\n",
    "new_points = []\n",
    "print(len(points))\n",
    "\n",
    "if(len(points) != 81) :\n",
    "    print(\"Board not detected! Try again!\")\n",
    "else:\n",
    "    for i in range(0,81):\n",
    "        if(i % 9) == 0:\n",
    "            new_points.append([])\n",
    "        new_points[int(i/9)].append(points[i])"
   ]
  },
  {
   "cell_type": "code",
   "execution_count": 25,
   "metadata": {},
   "outputs": [
    {
     "data": {
      "text/plain": [
       "[[[1, 2],\n",
       "  [87, 2],\n",
       "  [173, 2],\n",
       "  [259, 2],\n",
       "  [345, 2],\n",
       "  [431, 2],\n",
       "  [517, 2],\n",
       "  [603, 2],\n",
       "  [690, 2]],\n",
       " [[1, 88],\n",
       "  [87, 88],\n",
       "  [173, 88],\n",
       "  [259, 88],\n",
       "  [345, 88],\n",
       "  [431, 88],\n",
       "  [517, 88],\n",
       "  [603, 88],\n",
       "  [690, 88]],\n",
       " [[1, 174],\n",
       "  [87, 174],\n",
       "  [173, 174],\n",
       "  [259, 174],\n",
       "  [345, 174],\n",
       "  [431, 174],\n",
       "  [517, 174],\n",
       "  [603, 174],\n",
       "  [690, 174]],\n",
       " [[1, 260],\n",
       "  [87, 260],\n",
       "  [173, 260],\n",
       "  [259, 260],\n",
       "  [345, 260],\n",
       "  [431, 260],\n",
       "  [517, 260],\n",
       "  [603, 260],\n",
       "  [690, 260]],\n",
       " [[1, 346],\n",
       "  [87, 346],\n",
       "  [173, 346],\n",
       "  [259, 346],\n",
       "  [345, 346],\n",
       "  [431, 346],\n",
       "  [517, 346],\n",
       "  [603, 346],\n",
       "  [690, 346]],\n",
       " [[1, 432],\n",
       "  [87, 432],\n",
       "  [173, 432],\n",
       "  [259, 432],\n",
       "  [345, 432],\n",
       "  [431, 432],\n",
       "  [517, 432],\n",
       "  [603, 432],\n",
       "  [690, 432]],\n",
       " [[1, 518],\n",
       "  [87, 518],\n",
       "  [173, 518],\n",
       "  [259, 518],\n",
       "  [345, 518],\n",
       "  [431, 518],\n",
       "  [517, 518],\n",
       "  [603, 518],\n",
       "  [690, 518]],\n",
       " [[1, 604],\n",
       "  [87, 604],\n",
       "  [173, 604],\n",
       "  [259, 604],\n",
       "  [345, 604],\n",
       "  [431, 604],\n",
       "  [517, 604],\n",
       "  [603, 604],\n",
       "  [690, 604]],\n",
       " [[1, 691],\n",
       "  [87, 691],\n",
       "  [173, 691],\n",
       "  [259, 691],\n",
       "  [345, 691],\n",
       "  [431, 691],\n",
       "  [517, 691],\n",
       "  [603, 691],\n",
       "  [690, 691]]]"
      ]
     },
     "execution_count": 25,
     "metadata": {},
     "output_type": "execute_result"
    }
   ],
   "source": [
    "new_points"
   ]
  },
  {
   "cell_type": "code",
   "execution_count": 26,
   "metadata": {},
   "outputs": [],
   "source": [
    "def get_square_coordinates(points):\n",
    "    squares = []\n",
    "    for i in range(0, 8):\n",
    "        for j in range(0,8):\n",
    "            squares.append([(i,j), (i, j + 1), (i + 1, j), (i + 1, j + 1)])\n",
    "    return squares\n",
    "\n",
    "def get_ith_square(i, points, squares):\n",
    "    square = squares[i-1]\n",
    "    return [points[square[0][0]][square[0][1]], points[square[1][0]][square[1][1]],\n",
    "            points[square[2][0]][square[2][1]],points[square[3][0]][square[3][1]]]"
   ]
  },
  {
   "cell_type": "code",
   "execution_count": 27,
   "metadata": {},
   "outputs": [],
   "source": [
    "squares = get_square_coordinates(new_points)\n"
   ]
  },
  {
   "cell_type": "code",
   "execution_count": 28,
   "metadata": {},
   "outputs": [],
   "source": [
    "img = cv2.imread(image_path)\n",
    "\n",
    "for i in range(1,10):\n",
    "    corners = get_ith_square(i, new_points, squares)\n",
    "    img_patch = img[corners[0][0] : corners[3][0], corners[0][1] : corners[3][1]]\n",
    "    display_image(cv2.cvtColor(img_patch, cv2.COLOR_BGR2GRAY))\n"
   ]
  },
  {
   "cell_type": "code",
   "execution_count": 29,
   "metadata": {},
   "outputs": [
    {
     "name": "stderr",
     "output_type": "stream",
     "text": [
      "Using TensorFlow backend.\n"
     ]
    }
   ],
   "source": [
    "import pickle\n",
    "from keras.models import Sequential\n",
    "from keras.layers import Dense, Conv2D, Dropout, Flatten, MaxPooling2D\n",
    "import tensorflow as tf\n",
    "from keras.models import load_model\n",
    "\n",
    "model = load_model('model.h5', custom_objects={'softmax_v2': tf.nn.softmax})\n"
   ]
  },
  {
   "cell_type": "code",
   "execution_count": 35,
   "metadata": {},
   "outputs": [],
   "source": [
    "def decode(s):\n",
    "    if s == 'wr':\n",
    "        return 0\n",
    "    if s == 'wh':\n",
    "        return 1\n",
    "    if s == 'wb':\n",
    "        return 2\n",
    "    if s == 'wq':\n",
    "        return 3\n",
    "    if s == 'wk':\n",
    "        return 4\n",
    "    if s == 'wp':\n",
    "        return 5\n",
    "    if s == 'br':\n",
    "        return 6\n",
    "    if s == 'bh':\n",
    "        return 7\n",
    "    if s == 'bb':\n",
    "        return 8\n",
    "    if s == 'bq':\n",
    "        return 9\n",
    "    if s == 'bk':\n",
    "        return 10\n",
    "    if s == 'bp':\n",
    "        return 11\n",
    "    if s == 'n':\n",
    "        return 12\n",
    "    \n",
    "def encode(s):\n",
    "    s = s[0]\n",
    "    if s == 0:\n",
    "        return \"White Rook\"\n",
    "    if s == 1:\n",
    "        return \"White Horse\"\n",
    "    if s == 2:\n",
    "        return \"White Bishop\"\n",
    "    if s == 3:\n",
    "        return \"White Queen\"\n",
    "    if s == 4:\n",
    "        return \"White King\"\n",
    "    if s == 5:\n",
    "        return \"White Pawn\"\n",
    "    if s == 6:\n",
    "        return \"Black Rook\"\n",
    "    if s == 7:\n",
    "        return \"Black Horse\"\n",
    "    if s == 8:\n",
    "        return \"Black Bishop\"\n",
    "    if s == 9:\n",
    "        return \"Black Queen\"\n",
    "    if s == 10:\n",
    "        return \"Black King\"\n",
    "    if s == 11:\n",
    "        return \"Black Pawn\"\n",
    "    if s == 12:\n",
    "        return \"Blank Square\""
   ]
  },
  {
   "cell_type": "code",
   "execution_count": 37,
   "metadata": {},
   "outputs": [
    {
     "name": "stdout",
     "output_type": "stream",
     "text": [
      "White Rook\n",
      "Blank Square\n",
      "White Pawn\n",
      "Blank Square\n",
      "Blank Square\n",
      "Blank Square\n",
      "Black Pawn\n",
      "Black Rook\n",
      "White Horse\n",
      "White Pawn\n",
      "Blank Square\n",
      "Blank Square\n",
      "Blank Square\n",
      "Blank Square\n",
      "Black Pawn\n",
      "Black Horse\n",
      "White Bishop\n",
      "White Pawn\n",
      "Blank Square\n",
      "Blank Square\n",
      "Black Bishop\n",
      "Blank Square\n",
      "Black Pawn\n",
      "Black Bishop\n",
      "White King\n",
      "Blank Square\n",
      "White Pawn\n",
      "Blank Square\n",
      "Blank Square\n",
      "Blank Square\n",
      "Black Pawn\n",
      "Black King\n",
      "White Queen\n",
      "Blank Square\n",
      "White Pawn\n",
      "Blank Square\n",
      "Black Pawn\n",
      "Blank Square\n",
      "Blank Square\n",
      "Black Queen\n",
      "White Bishop\n",
      "Blank Square\n",
      "White Pawn\n",
      "Blank Square\n",
      "Blank Square\n",
      "Black Horse\n",
      "Black Pawn\n",
      "Blank Square\n",
      "White Horse\n",
      "White Pawn\n",
      "Blank Square\n",
      "Blank Square\n",
      "Blank Square\n",
      "Blank Square\n",
      "Black Pawn\n",
      "Blank Square\n",
      "White Rook\n",
      "White Pawn\n",
      "Blank Square\n",
      "Blank Square\n",
      "Blank Square\n",
      "Blank Square\n",
      "Black Pawn\n",
      "Black Rook\n"
     ]
    }
   ],
   "source": [
    "prediction = []\n",
    "l1= []\n",
    "l2 = []\n",
    "for i in range(1,65):\n",
    "    corners = get_ith_square(i, new_points, squares)\n",
    "    img_patch = img[corners[0][0] : corners[3][0], corners[0][1] : corners[3][1]]\n",
    "    img_patch_short = cv2.resize(cv2.cvtColor(img_patch, cv2.COLOR_BGR2GRAY),(28,28))\n",
    "    \n",
    "    temp_lst = []\n",
    "\n",
    "    temp_lst.append(img_patch_short)\n",
    "    inp = np.dstack(temp_lst)\n",
    "\n",
    "    inp = np.swapaxes(inp, 0, 2)\n",
    "    inp = inp.reshape(inp.shape[0], 28, 28, 1)\n",
    "    inp=np.array(inp, dtype=np.float64)\n",
    "\n",
    "    inp /= 255\n",
    "    prediction = model.predict(inp)\n",
    "    display_image(img_patch_short)\n",
    "    \n",
    "    #l1.append(img_patch_short)\n",
    "    #l2.append(decode(input()))\n",
    "    \n",
    "    preds_classes = np.argmax(prediction, axis=-1)\n",
    "    print(encode(preds_classes))\n",
    "    "
   ]
  },
  {
   "cell_type": "code",
   "execution_count": 32,
   "metadata": {},
   "outputs": [
    {
     "ename": "ValueError",
     "evalue": "need at least one array to concatenate",
     "output_type": "error",
     "traceback": [
      "\u001b[1;31m---------------------------------------------------------------------------\u001b[0m",
      "\u001b[1;31mValueError\u001b[0m                                Traceback (most recent call last)",
      "\u001b[1;32m<ipython-input-32-4700f8bc2f30>\u001b[0m in \u001b[0;36m<module>\u001b[1;34m\u001b[0m\n\u001b[1;32m----> 1\u001b[1;33m \u001b[0md1\u001b[0m \u001b[1;33m=\u001b[0m \u001b[0mnp\u001b[0m\u001b[1;33m.\u001b[0m\u001b[0mdstack\u001b[0m\u001b[1;33m(\u001b[0m\u001b[0ml1\u001b[0m\u001b[1;33m)\u001b[0m\u001b[1;33m\u001b[0m\u001b[1;33m\u001b[0m\u001b[0m\n\u001b[0m\u001b[0;32m      2\u001b[0m \u001b[0md2\u001b[0m \u001b[1;33m=\u001b[0m \u001b[0mnp\u001b[0m\u001b[1;33m.\u001b[0m\u001b[0marray\u001b[0m\u001b[1;33m(\u001b[0m\u001b[0ml2\u001b[0m\u001b[1;33m)\u001b[0m\u001b[1;33m\u001b[0m\u001b[1;33m\u001b[0m\u001b[0m\n\u001b[0;32m      3\u001b[0m \u001b[1;33m\u001b[0m\u001b[0m\n\u001b[0;32m      4\u001b[0m \u001b[1;32mfrom\u001b[0m \u001b[0mnumpy\u001b[0m \u001b[1;32mimport\u001b[0m \u001b[0msave\u001b[0m\u001b[1;33m\u001b[0m\u001b[1;33m\u001b[0m\u001b[0m\n\u001b[0;32m      5\u001b[0m \u001b[0msave\u001b[0m\u001b[1;33m(\u001b[0m\u001b[1;34m'dataset_test_x.npy'\u001b[0m\u001b[1;33m,\u001b[0m \u001b[0md1\u001b[0m\u001b[1;33m)\u001b[0m\u001b[1;33m\u001b[0m\u001b[1;33m\u001b[0m\u001b[0m\n",
      "\u001b[1;32m~\\Anaconda3\\lib\\site-packages\\numpy\\lib\\shape_base.py\u001b[0m in \u001b[0;36mdstack\u001b[1;34m(tup)\u001b[0m\n\u001b[0;32m    697\u001b[0m     \"\"\"\n\u001b[0;32m    698\u001b[0m     \u001b[0m_warn_for_nonsequence\u001b[0m\u001b[1;33m(\u001b[0m\u001b[0mtup\u001b[0m\u001b[1;33m)\u001b[0m\u001b[1;33m\u001b[0m\u001b[1;33m\u001b[0m\u001b[0m\n\u001b[1;32m--> 699\u001b[1;33m     \u001b[1;32mreturn\u001b[0m \u001b[0m_nx\u001b[0m\u001b[1;33m.\u001b[0m\u001b[0mconcatenate\u001b[0m\u001b[1;33m(\u001b[0m\u001b[1;33m[\u001b[0m\u001b[0matleast_3d\u001b[0m\u001b[1;33m(\u001b[0m\u001b[0m_m\u001b[0m\u001b[1;33m)\u001b[0m \u001b[1;32mfor\u001b[0m \u001b[0m_m\u001b[0m \u001b[1;32min\u001b[0m \u001b[0mtup\u001b[0m\u001b[1;33m]\u001b[0m\u001b[1;33m,\u001b[0m \u001b[1;36m2\u001b[0m\u001b[1;33m)\u001b[0m\u001b[1;33m\u001b[0m\u001b[1;33m\u001b[0m\u001b[0m\n\u001b[0m\u001b[0;32m    700\u001b[0m \u001b[1;33m\u001b[0m\u001b[0m\n\u001b[0;32m    701\u001b[0m \u001b[1;33m\u001b[0m\u001b[0m\n",
      "\u001b[1;31mValueError\u001b[0m: need at least one array to concatenate"
     ]
    }
   ],
   "source": [
    "d1 = np.dstack(l1)\n",
    "d2 = np.array(l2)\n",
    "\n",
    "from numpy import save\n",
    "save('dataset_test_x.npy', d1)\n",
    "save('dataset_test_y.npy',d2)"
   ]
  },
  {
   "cell_type": "code",
   "execution_count": null,
   "metadata": {},
   "outputs": [],
   "source": []
  },
  {
   "cell_type": "code",
   "execution_count": null,
   "metadata": {},
   "outputs": [],
   "source": []
  }
 ],
 "metadata": {
  "kernelspec": {
   "display_name": "Python 3",
   "language": "python",
   "name": "python3"
  },
  "language_info": {
   "codemirror_mode": {
    "name": "ipython",
    "version": 3
   },
   "file_extension": ".py",
   "mimetype": "text/x-python",
   "name": "python",
   "nbconvert_exporter": "python",
   "pygments_lexer": "ipython3",
   "version": "3.7.3"
  }
 },
 "nbformat": 4,
 "nbformat_minor": 2
}
