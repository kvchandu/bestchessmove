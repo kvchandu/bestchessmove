{
 "cells": [
  {
   "cell_type": "markdown",
   "metadata": {},
   "source": [
    "# Loading Image\n",
    "\n",
    "We use this section to load an image and preprocess it. "
   ]
  },
  {
   "cell_type": "code",
   "execution_count": 213,
   "metadata": {},
   "outputs": [],
   "source": [
    "# Imports for visualization\n",
    "import cv2\n",
    "import numpy as np\n",
    "from matplotlib import pyplot as plt\n",
    "from scipy import stats\n",
    "import pyautogui"
   ]
  },
  {
   "cell_type": "code",
   "execution_count": 214,
   "metadata": {},
   "outputs": [],
   "source": [
    "def display_image(img):\n",
    "    #imS = cv2.resize(img, (1000, 700))  # Resize image\n",
    "    imS = cv2.resize(img, (800, 800))\n",
    "    cv2.imshow(\"image\", imS)\n",
    "    cv2.waitKey(0)\n",
    "\n",
    "    cv2.waitKey(0)\n",
    "    cv2.destroyAllWindows()\n",
    "    \n",
    "\n",
    "def make_kernel(a):\n",
    "  \"\"\"Transform a 2D array into a convolution kernel\"\"\"\n",
    "  a = np.asarray(a)\n",
    "  a = a.reshape(list(a.shape) + [1,1])\n",
    "  return a"
   ]
  },
  {
   "cell_type": "code",
   "execution_count": 215,
   "metadata": {},
   "outputs": [],
   "source": [
    "def take_screenshot():\n",
    "    myScreenshot = pyautogui.screenshot(region=(565,195, 700, 700))\n",
    "    myScreenshot.save(r'screenshot1.png')\n",
    "    return r'screenshot1.png'"
   ]
  },
  {
   "cell_type": "code",
   "execution_count": 216,
   "metadata": {},
   "outputs": [],
   "source": [
    "import tkinter as tk\n",
    "from tkinter import filedialog\n",
    "\n",
    "root= tk.Tk()\n",
    "\n",
    "canvas1 = tk.Canvas(root, width = 300, height = 300)\n",
    "canvas1.pack()\n",
    "\n",
    "def takeScreenshot ():\n",
    "    \n",
    "    myScreenshot = pyautogui.screenshot()\n",
    "    file_path = filedialog.asksaveasfilename(defaultextension='.png')\n",
    "    myScreenshot.save(file_path)\n",
    "\n",
    "myButton = tk.Button(text='Take Screenshot', command=take_screenshot, bg='green',fg='white',font= 10)\n",
    "canvas1.create_window(150, 150, window=myButton)\n",
    "\n",
    "root.mainloop()"
   ]
  },
  {
   "cell_type": "code",
   "execution_count": 237,
   "metadata": {},
   "outputs": [],
   "source": [
    "#Load image and convert to grayscale\n",
    "image_path = 'screenshot1.png'\n",
    "img = cv2.imread(image_path)\n",
    "\n",
    "gray = cv2.cvtColor(img, cv2.COLOR_BGR2GRAY)\n",
    "\n",
    "#Perform Hough transform\n",
    "gray = cv2.cvtColor(img, cv2.COLOR_BGR2GRAY)\n",
    "edges = cv2.Canny(gray,50,150,apertureSize = 3)\n",
    "lines = cv2.HoughLines(edges,1,np.pi/180,200)\n",
    "\n"
   ]
  },
  {
   "cell_type": "code",
   "execution_count": 238,
   "metadata": {},
   "outputs": [],
   "source": [
    "vertical_lines = []\n",
    "horizontal_lines = []\n",
    "#Display all lines\n",
    "for line in lines:\n",
    "    rho = line[0][0]\n",
    "    theta = line[0][1]\n",
    "    if(theta == 0):\n",
    "        vertical_lines.append(line)\n",
    "\n",
    "\n",
    "\n",
    "#Display all lines\n",
    "for line in lines:\n",
    "    rho = line[0][0]\n",
    "    theta = line[0][1]\n",
    "    if theta != 0.0:        horizontal_lines.append(line)\n",
    "        "
   ]
  },
  {
   "cell_type": "code",
   "execution_count": 239,
   "metadata": {},
   "outputs": [],
   "source": [
    "def checkMatch(lineset):\n",
    "    \"\"\"Checks whether there exists 7 lines of consistent increasing order in set of lines\"\"\"\n",
    "    linediff = np.diff(lineset)\n",
    "    x = 0\n",
    "    cnt = 0\n",
    "    for line in linediff:\n",
    "        # Within 5 px of the other (allowing for minor image errors)\n",
    "        if np.abs(line - x) < 5:\n",
    "            cnt += 1\n",
    "        else:\n",
    "            cnt = 0\n",
    "            x = line\n",
    "    return cnt == 5"
   ]
  },
  {
   "cell_type": "code",
   "execution_count": 240,
   "metadata": {},
   "outputs": [
    {
     "data": {
      "text/plain": [
       "16"
      ]
     },
     "execution_count": 240,
     "metadata": {},
     "output_type": "execute_result"
    }
   ],
   "source": [
    "len(horizontal_lines)"
   ]
  },
  {
   "cell_type": "code",
   "execution_count": 241,
   "metadata": {},
   "outputs": [],
   "source": [
    "img = cv2.imread(image_path)\n",
    "for line in vertical_lines:\n",
    "    rho = line[0][0]\n",
    "    theta = line[0][1]\n",
    "    a = np.cos(theta)\n",
    "    b = np.sin(theta)\n",
    "    x0 = a*rho\n",
    "    y0 = b*rho\n",
    "    x1 = int(x0 + 5000*(-b))\n",
    "    y1 = int(y0 + 5000*(a))\n",
    "    x2 = int(x0 - 5000*(-b))\n",
    "    y2 = int(y0 - 5000*(a))\n",
    "\n",
    "    cv2.line(img,(x1,y1),(x2,y2),(0,0,255),2)\n",
    "\n",
    "display_image(img)"
   ]
  },
  {
   "cell_type": "code",
   "execution_count": 242,
   "metadata": {},
   "outputs": [],
   "source": [
    "img = cv2.imread(image_path)\n",
    "for line in horizontal_lines:\n",
    "    rho = line[0][0]\n",
    "    theta = line[0][1]\n",
    "    a = np.cos(theta)\n",
    "    b = np.sin(theta)\n",
    "    x0 = a*rho\n",
    "    y0 = b*rho\n",
    "    x1 = int(x0 + 5000*(-b))\n",
    "    y1 = int(y0 + 5000*(a))\n",
    "    x2 = int(x0 - 5000*(-b))\n",
    "    y2 = int(y0 - 5000*(a))\n",
    "\n",
    "    cv2.line(img,(x1,y1),(x2,y2),(0,0,255),2)\n",
    "\n",
    "display_image(img)"
   ]
  },
  {
   "cell_type": "code",
   "execution_count": 243,
   "metadata": {},
   "outputs": [
    {
     "data": {
      "text/plain": [
       "array([[  5.       ,   1.5707964],\n",
       "       [ 78.       ,   1.5707964],\n",
       "       [ 81.       ,   1.5707964],\n",
       "       [ 91.       ,   1.5707964],\n",
       "       [165.       ,   1.5707964],\n",
       "       [168.       ,   1.5707964],\n",
       "       [177.       ,   1.5707964],\n",
       "       [263.       ,   1.5707964],\n",
       "       [349.       ,   1.5707964],\n",
       "       [435.       ,   1.5707964],\n",
       "       [521.       ,   1.5707964],\n",
       "       [598.       ,   1.5707964],\n",
       "       [607.       ,   1.5707964],\n",
       "       [683.       ,   1.5707964],\n",
       "       [693.       ,   1.5707964],\n",
       "       [695.       ,   1.5707964]], dtype=float32)"
      ]
     },
     "execution_count": 243,
     "metadata": {},
     "output_type": "execute_result"
    }
   ],
   "source": [
    "\n",
    "#Convert to numpy arrays. \n",
    "horizontal_lines_np = np.concatenate( horizontal_lines, axis=0 )\n",
    "vertical_lines_np = np.concatenate( vertical_lines, axis=0 )\n",
    "horizontal_lines_np = np.sort(horizontal_lines_np, axis = 0)\n",
    "vertical_lines_np = np.sort(vertical_lines_np, axis = 0)\n",
    "\n",
    "horizontal_lines_np"
   ]
  },
  {
   "cell_type": "code",
   "execution_count": 244,
   "metadata": {},
   "outputs": [
    {
     "data": {
      "text/plain": [
       "array([[73.,  0.],\n",
       "       [ 3.,  0.],\n",
       "       [10.,  0.],\n",
       "       [74.,  0.],\n",
       "       [ 3.,  0.],\n",
       "       [ 9.,  0.],\n",
       "       [86.,  0.],\n",
       "       [86.,  0.],\n",
       "       [86.,  0.],\n",
       "       [86.,  0.],\n",
       "       [77.,  0.],\n",
       "       [ 9.,  0.],\n",
       "       [76.,  0.],\n",
       "       [10.,  0.],\n",
       "       [ 2.,  0.]], dtype=float32)"
      ]
     },
     "execution_count": 244,
     "metadata": {},
     "output_type": "execute_result"
    }
   ],
   "source": [
    "linediff_hor = np.diff(horizontal_lines_np, axis = 0)\n",
    "linediff_ver = np.diff(vertical_lines_np, axis = 0)\n",
    "\n",
    "linediff_hor"
   ]
  },
  {
   "cell_type": "code",
   "execution_count": 245,
   "metadata": {},
   "outputs": [],
   "source": [
    "#Remove lines which are very close to each other so that the board detection will be easier. \n",
    "def filter_lines(lines, linediff):\n",
    "    indices_to_delete = []\n",
    "    for index, diff in enumerate(linediff): \n",
    "        if(diff[0] <= 10):\n",
    "            indices_to_delete.append(index)\n",
    "    return np.delete(lines, indices_to_delete,0)\n"
   ]
  },
  {
   "cell_type": "code",
   "execution_count": 246,
   "metadata": {},
   "outputs": [],
   "source": [
    "filtered_horizontal_lines = filter_lines(horizontal_lines_np, linediff_hor)\n",
    "filtered_vertical_lines = filter_lines(vertical_lines_np, linediff_ver)"
   ]
  },
  {
   "cell_type": "code",
   "execution_count": 247,
   "metadata": {},
   "outputs": [],
   "source": [
    "img = cv2.imread(image_path)\n",
    "for line in filtered_horizontal_lines:\n",
    "    rho = line[0]\n",
    "    theta = line[1]\n",
    "    a = np.cos(theta)\n",
    "    b = np.sin(theta)\n",
    "    x0 = a*rho\n",
    "    y0 = b*rho\n",
    "    x1 = int(x0 + 5000*(-b))\n",
    "    y1 = int(y0 + 5000*(a))\n",
    "    x2 = int(x0 - 5000*(-b))\n",
    "    y2 = int(y0 - 5000*(a))\n",
    "\n",
    "    cv2.line(img,(x1,y1),(x2,y2),(0,0,255),2)\n",
    "\n",
    "display_image(img)"
   ]
  },
  {
   "cell_type": "code",
   "execution_count": 248,
   "metadata": {},
   "outputs": [],
   "source": [
    "#update line differences. \n",
    "\n",
    "linediff_hor = np.diff(filtered_horizontal_lines, axis = 0)\n",
    "linediff_ver = np.diff(filtered_vertical_lines, axis = 0)"
   ]
  },
  {
   "cell_type": "code",
   "execution_count": 249,
   "metadata": {},
   "outputs": [
    {
     "data": {
      "text/plain": [
       "array([[86.,  0.],\n",
       "       [86.,  0.],\n",
       "       [86.,  0.],\n",
       "       [86.,  0.],\n",
       "       [86.,  0.],\n",
       "       [86.,  0.],\n",
       "       [86.,  0.],\n",
       "       [88.,  0.]], dtype=float32)"
      ]
     },
     "execution_count": 249,
     "metadata": {},
     "output_type": "execute_result"
    }
   ],
   "source": [
    "linediff_hor"
   ]
  },
  {
   "cell_type": "code",
   "execution_count": 250,
   "metadata": {},
   "outputs": [],
   "source": [
    "def get_chess_lines(lines, linediff):\n",
    "    indices_to_delete = []\n",
    "    #find most occuring difference which is probably the width of the chess square. \n",
    "    m = stats.mode(linediff)\n",
    "    mode = m[0][0][0]\n",
    "    for index, diff in enumerate(linediff): \n",
    "        if(abs(diff[0] - mode) >5):\n",
    "            print(diff[0])\n",
    "            indices_to_delete.append(index+1)\n",
    "    return np.delete(lines, indices_to_delete,0)"
   ]
  },
  {
   "cell_type": "code",
   "execution_count": 251,
   "metadata": {},
   "outputs": [],
   "source": [
    "chess_lines_hor = get_chess_lines(filtered_horizontal_lines, linediff_hor)\n",
    "chess_lines_ver = get_chess_lines(filtered_vertical_lines, linediff_ver)"
   ]
  },
  {
   "cell_type": "code",
   "execution_count": 252,
   "metadata": {},
   "outputs": [
    {
     "name": "stdout",
     "output_type": "stream",
     "text": [
      "[[  5.          1.5707964]\n",
      " [ 91.          1.5707964]\n",
      " [177.          1.5707964]\n",
      " [263.          1.5707964]\n",
      " [349.          1.5707964]\n",
      " [435.          1.5707964]\n",
      " [521.          1.5707964]\n",
      " [607.          1.5707964]\n",
      " [695.          1.5707964]]\n"
     ]
    }
   ],
   "source": [
    "img = cv2.imread(image_path)\n",
    "for line in chess_lines_hor:\n",
    "    rho = line[0]\n",
    "    theta = line[1]\n",
    "    a = np.cos(theta)\n",
    "    b = np.sin(theta)\n",
    "    x0 = a*rho\n",
    "    y0 = b*rho\n",
    "    x1 = int(x0 + 5000*(-b))\n",
    "    y1 = int(y0 + 5000*(a))\n",
    "    x2 = int(x0 - 5000*(-b))\n",
    "    y2 = int(y0 - 5000*(a))\n",
    "\n",
    "    cv2.line(img,(x1,y1),(x2,y2),(0,0,255),2)\n",
    "    \n",
    "for line in chess_lines_ver:\n",
    "    rho = line[0]\n",
    "    theta = line[1]\n",
    "    a = np.cos(theta)\n",
    "    b = np.sin(theta)\n",
    "    x0 = a*rho\n",
    "    y0 = b*rho\n",
    "    x1 = int(x0 + 5000*(-b))\n",
    "    y1 = int(y0 + 5000*(a))\n",
    "    x2 = int(x0 - 5000*(-b))\n",
    "    y2 = int(y0 - 5000*(a))\n",
    "\n",
    "    cv2.line(img,(x1,y1),(x2,y2),(0,0,255),2)\n",
    "\n",
    "print(chess_lines_hor)\n",
    "    \n",
    "display_image(img)"
   ]
  },
  {
   "cell_type": "code",
   "execution_count": 253,
   "metadata": {},
   "outputs": [],
   "source": [
    "#Get equations of lines:\n",
    "def getIntersection(rho1,theta1,rho2, theta2):\n",
    "    A = np.array([\n",
    "        [np.cos(theta1), np.sin(theta1)],\n",
    "        [np.cos(theta2), np.sin(theta2)]\n",
    "    ])\n",
    "    b = np.array([[rho1], [rho2]])\n",
    "    x0, y0 = np.linalg.solve(A, b)\n",
    "    x0, y0 = int(np.round(x0)), int(np.round(y0))\n",
    "    return [[x0, y0]]\n",
    "    "
   ]
  },
  {
   "cell_type": "code",
   "execution_count": 254,
   "metadata": {},
   "outputs": [],
   "source": [
    "#Get all intersection points of horizontal and vertical lines to get the corners of the chess squares to extract patches. \n",
    "\n",
    "points = []\n",
    "for i in chess_lines_hor:\n",
    "    for j in chess_lines_ver:\n",
    "        rho_hor = i[0]\n",
    "        theta_hor = i[1]\n",
    "        rho_ver = j[0]\n",
    "        theta_ver = j[1]\n",
    "        points.append(getIntersection(rho_hor, theta_hor, rho_ver, theta_ver))"
   ]
  },
  {
   "cell_type": "code",
   "execution_count": 255,
   "metadata": {},
   "outputs": [
    {
     "name": "stdout",
     "output_type": "stream",
     "text": [
      "[[4, 5]]\n",
      "[[90, 5]]\n",
      "[[176, 5]]\n",
      "[[262, 5]]\n",
      "[[348, 5]]\n",
      "[[434, 5]]\n",
      "[[520, 5]]\n",
      "[[606, 5]]\n",
      "[[693, 5]]\n",
      "[[4, 91]]\n",
      "[[90, 91]]\n",
      "[[176, 91]]\n",
      "[[262, 91]]\n",
      "[[348, 91]]\n",
      "[[434, 91]]\n",
      "[[520, 91]]\n",
      "[[606, 91]]\n",
      "[[693, 91]]\n",
      "[[4, 177]]\n",
      "[[90, 177]]\n",
      "[[176, 177]]\n",
      "[[262, 177]]\n",
      "[[348, 177]]\n",
      "[[434, 177]]\n",
      "[[520, 177]]\n",
      "[[606, 177]]\n",
      "[[693, 177]]\n",
      "[[4, 263]]\n",
      "[[90, 263]]\n",
      "[[176, 263]]\n",
      "[[262, 263]]\n",
      "[[348, 263]]\n",
      "[[434, 263]]\n",
      "[[520, 263]]\n",
      "[[606, 263]]\n",
      "[[693, 263]]\n",
      "[[4, 349]]\n",
      "[[90, 349]]\n",
      "[[176, 349]]\n",
      "[[262, 349]]\n",
      "[[348, 349]]\n",
      "[[434, 349]]\n",
      "[[520, 349]]\n",
      "[[606, 349]]\n",
      "[[693, 349]]\n",
      "[[4, 435]]\n",
      "[[90, 435]]\n",
      "[[176, 435]]\n",
      "[[262, 435]]\n",
      "[[348, 435]]\n",
      "[[434, 435]]\n",
      "[[520, 435]]\n",
      "[[606, 435]]\n",
      "[[693, 435]]\n",
      "[[4, 521]]\n",
      "[[90, 521]]\n",
      "[[176, 521]]\n",
      "[[262, 521]]\n",
      "[[348, 521]]\n",
      "[[434, 521]]\n",
      "[[520, 521]]\n",
      "[[606, 521]]\n",
      "[[693, 521]]\n",
      "[[4, 607]]\n",
      "[[90, 607]]\n",
      "[[176, 607]]\n",
      "[[262, 607]]\n",
      "[[348, 607]]\n",
      "[[434, 607]]\n",
      "[[520, 607]]\n",
      "[[606, 607]]\n",
      "[[693, 607]]\n",
      "[[4, 695]]\n",
      "[[90, 695]]\n",
      "[[176, 695]]\n",
      "[[262, 695]]\n",
      "[[348, 695]]\n",
      "[[434, 695]]\n",
      "[[520, 695]]\n",
      "[[606, 695]]\n",
      "[[693, 695]]\n"
     ]
    }
   ],
   "source": [
    "# Make empty black image\n",
    "img = cv2.imread(image_path)\n",
    "for point in points:\n",
    "    print(point)\n",
    "    cv2.circle(img, (point[0][0],point[0][1]), 5, [0,0,255], thickness=2, lineType=8, shift=0)\n",
    "#image[10,5]=[0,0,255]\n",
    "\n",
    "display_image(img)\n",
    "# # Make one pixel red\n",
    "\n",
    "# # Save\n",
    "# cv2.imwrite(\"result.png\",image)"
   ]
  },
  {
   "cell_type": "code",
   "execution_count": null,
   "metadata": {},
   "outputs": [],
   "source": []
  },
  {
   "cell_type": "code",
   "execution_count": null,
   "metadata": {},
   "outputs": [],
   "source": []
  }
 ],
 "metadata": {
  "kernelspec": {
   "display_name": "Python 3",
   "language": "python",
   "name": "python3"
  },
  "language_info": {
   "codemirror_mode": {
    "name": "ipython",
    "version": 3
   },
   "file_extension": ".py",
   "mimetype": "text/x-python",
   "name": "python",
   "nbconvert_exporter": "python",
   "pygments_lexer": "ipython3",
   "version": "3.7.3"
  }
 },
 "nbformat": 4,
 "nbformat_minor": 2
}
